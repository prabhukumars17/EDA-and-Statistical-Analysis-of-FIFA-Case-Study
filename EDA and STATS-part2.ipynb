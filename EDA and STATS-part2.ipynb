{
 "cells": [
  {
   "cell_type": "markdown",
   "id": "a39ec716",
   "metadata": {},
   "source": [
    "# EDA - MINI PROJECT"
   ]
  },
  {
   "cell_type": "markdown",
   "id": "0bb4e976",
   "metadata": {},
   "source": [
    "### 1. Import the necessary libraries and read the data."
   ]
  },
  {
   "cell_type": "code",
   "execution_count": 35,
   "id": "a097ec41",
   "metadata": {},
   "outputs": [],
   "source": [
    "import numpy as np\n",
    "import pandas as pd\n",
    "import matplotlib.pyplot as plt\n",
    "import seaborn as sns\n",
    "import warnings\n",
    "warnings.filterwarnings('ignore')\n",
    "from sklearn.preprocessing import PowerTransformer\n",
    "from sklearn.preprocessing import StandardScaler,MinMaxScaler,RobustScaler\n",
    "from sklearn.preprocessing import LabelEncoder,OrdinalEncoder\n",
    "from sklearn.model_selection import train_test_split\n",
    "import scipy.stats as stats\n",
    "import statsmodels.api as sm"
   ]
  },
  {
   "cell_type": "code",
   "execution_count": 43,
   "id": "6da9f596",
   "metadata": {
    "scrolled": true
   },
   "outputs": [],
   "source": [
    "#reading the data\n",
    "\n",
    "df=pd.read_csv(r\"C:\\Users\\PrabhukumarS\\Desktop\\G_L\\mini project\\EDA & STATS\\project 3\\project 3\\fifa.csv\")"
   ]
  },
  {
   "cell_type": "code",
   "execution_count": 44,
   "id": "2f8f218f",
   "metadata": {
    "scrolled": true
   },
   "outputs": [
    {
     "data": {
      "text/plain": [
       "(25490, 60)"
      ]
     },
     "execution_count": 44,
     "metadata": {},
     "output_type": "execute_result"
    }
   ],
   "source": [
    "df.shape  #there are 25,490 records and 60 columns/variables ."
   ]
  },
  {
   "cell_type": "code",
   "execution_count": 45,
   "id": "90a83734",
   "metadata": {
    "scrolled": true
   },
   "outputs": [
    {
     "name": "stdout",
     "output_type": "stream",
     "text": [
      "<class 'pandas.core.frame.DataFrame'>\n",
      "RangeIndex: 25490 entries, 0 to 25489\n",
      "Data columns (total 60 columns):\n",
      " #   Column                    Non-Null Count  Dtype  \n",
      "---  ------                    --------------  -----  \n",
      " 0   ID                        25490 non-null  int64  \n",
      " 1   Name                      25490 non-null  object \n",
      " 2   Age                       25490 non-null  int64  \n",
      " 3   Photo                     25490 non-null  object \n",
      " 4   Nationality               25490 non-null  object \n",
      " 5   Flag                      25490 non-null  object \n",
      " 6   Overall                   25490 non-null  int64  \n",
      " 7   Potential                 25490 non-null  int64  \n",
      " 8   Club                      25159 non-null  object \n",
      " 9   Club Logo                 25490 non-null  object \n",
      " 10  Value                     25490 non-null  object \n",
      " 11  Wage                      25490 non-null  object \n",
      " 12  Preferred Foot            25425 non-null  object \n",
      " 13  International Reputation  25425 non-null  float64\n",
      " 14  Weak Foot                 25425 non-null  float64\n",
      " 15  Skill Moves               25425 non-null  float64\n",
      " 16  Work Rate                 25425 non-null  object \n",
      " 17  Body Type                 25425 non-null  object \n",
      " 18  Position                  25401 non-null  object \n",
      " 19  Jersey Number             25401 non-null  float64\n",
      " 20  Joined                    23319 non-null  object \n",
      " 21  Loaned From               1775 non-null   object \n",
      " 22  Contract Valid Until      25094 non-null  object \n",
      " 23  Height                    25425 non-null  object \n",
      " 24  Weight                    25425 non-null  object \n",
      " 25  Crossing                  25425 non-null  float64\n",
      " 26  Finishing                 25425 non-null  float64\n",
      " 27  HeadingAccuracy           25425 non-null  float64\n",
      " 28  ShortPassing              25425 non-null  float64\n",
      " 29  Volleys                   25425 non-null  float64\n",
      " 30  Dribbling                 25425 non-null  float64\n",
      " 31  Curve                     25425 non-null  float64\n",
      " 32  FKAccuracy                25425 non-null  float64\n",
      " 33  LongPassing               25425 non-null  float64\n",
      " 34  BallControl               25425 non-null  float64\n",
      " 35  Acceleration              25425 non-null  float64\n",
      " 36  SprintSpeed               25425 non-null  float64\n",
      " 37  Agility                   25425 non-null  float64\n",
      " 38  Reactions                 25425 non-null  float64\n",
      " 39  Balance                   25425 non-null  float64\n",
      " 40  ShotPower                 25425 non-null  float64\n",
      " 41  Jumping                   25425 non-null  float64\n",
      " 42  Stamina                   25425 non-null  float64\n",
      " 43  Strength                  25425 non-null  float64\n",
      " 44  LongShots                 25425 non-null  float64\n",
      " 45  Aggression                25425 non-null  float64\n",
      " 46  Interceptions             25425 non-null  float64\n",
      " 47  Positioning               25425 non-null  float64\n",
      " 48  Vision                    25425 non-null  float64\n",
      " 49  Penalties                 25425 non-null  float64\n",
      " 50  Composure                 25425 non-null  float64\n",
      " 51  Marking                   25425 non-null  float64\n",
      " 52  StandingTackle            25425 non-null  float64\n",
      " 53  SlidingTackle             25425 non-null  float64\n",
      " 54  GKDiving                  25425 non-null  float64\n",
      " 55  GKHandling                25425 non-null  float64\n",
      " 56  GKKicking                 25425 non-null  float64\n",
      " 57  GKPositioning             25425 non-null  float64\n",
      " 58  GKReflexes                25425 non-null  float64\n",
      " 59  Release Clause            23308 non-null  object \n",
      "dtypes: float64(38), int64(4), object(18)\n",
      "memory usage: 11.7+ MB\n"
     ]
    }
   ],
   "source": [
    "df.info()"
   ]
  },
  {
   "cell_type": "code",
   "execution_count": 46,
   "id": "4ba5b07e",
   "metadata": {
    "scrolled": true
   },
   "outputs": [
    {
     "data": {
      "text/html": [
       "<div>\n",
       "<style scoped>\n",
       "    .dataframe tbody tr th:only-of-type {\n",
       "        vertical-align: middle;\n",
       "    }\n",
       "\n",
       "    .dataframe tbody tr th {\n",
       "        vertical-align: top;\n",
       "    }\n",
       "\n",
       "    .dataframe thead th {\n",
       "        text-align: right;\n",
       "    }\n",
       "</style>\n",
       "<table border=\"1\" class=\"dataframe\">\n",
       "  <thead>\n",
       "    <tr style=\"text-align: right;\">\n",
       "      <th></th>\n",
       "      <th>ID</th>\n",
       "      <th>Age</th>\n",
       "      <th>Overall</th>\n",
       "      <th>Potential</th>\n",
       "      <th>International Reputation</th>\n",
       "      <th>Weak Foot</th>\n",
       "      <th>Skill Moves</th>\n",
       "      <th>Jersey Number</th>\n",
       "      <th>Crossing</th>\n",
       "      <th>Finishing</th>\n",
       "      <th>...</th>\n",
       "      <th>Penalties</th>\n",
       "      <th>Composure</th>\n",
       "      <th>Marking</th>\n",
       "      <th>StandingTackle</th>\n",
       "      <th>SlidingTackle</th>\n",
       "      <th>GKDiving</th>\n",
       "      <th>GKHandling</th>\n",
       "      <th>GKKicking</th>\n",
       "      <th>GKPositioning</th>\n",
       "      <th>GKReflexes</th>\n",
       "    </tr>\n",
       "  </thead>\n",
       "  <tbody>\n",
       "    <tr>\n",
       "      <th>count</th>\n",
       "      <td>25490.000000</td>\n",
       "      <td>25490.000000</td>\n",
       "      <td>25490.000000</td>\n",
       "      <td>25490.000000</td>\n",
       "      <td>25425.000000</td>\n",
       "      <td>25425.000000</td>\n",
       "      <td>25425.000000</td>\n",
       "      <td>25401.000000</td>\n",
       "      <td>25425.000000</td>\n",
       "      <td>25425.000000</td>\n",
       "      <td>...</td>\n",
       "      <td>25425.000000</td>\n",
       "      <td>25425.000000</td>\n",
       "      <td>25425.000000</td>\n",
       "      <td>25425.000000</td>\n",
       "      <td>25425.000000</td>\n",
       "      <td>25425.000000</td>\n",
       "      <td>25425.000000</td>\n",
       "      <td>25425.000000</td>\n",
       "      <td>25425.000000</td>\n",
       "      <td>25425.000000</td>\n",
       "    </tr>\n",
       "    <tr>\n",
       "      <th>mean</th>\n",
       "      <td>214357.925343</td>\n",
       "      <td>25.114162</td>\n",
       "      <td>66.261593</td>\n",
       "      <td>71.338486</td>\n",
       "      <td>1.109302</td>\n",
       "      <td>2.949656</td>\n",
       "      <td>2.368181</td>\n",
       "      <td>19.576788</td>\n",
       "      <td>49.881180</td>\n",
       "      <td>45.662694</td>\n",
       "      <td>...</td>\n",
       "      <td>48.663559</td>\n",
       "      <td>58.749853</td>\n",
       "      <td>47.438033</td>\n",
       "      <td>47.816087</td>\n",
       "      <td>45.730305</td>\n",
       "      <td>16.568220</td>\n",
       "      <td>16.349066</td>\n",
       "      <td>16.230718</td>\n",
       "      <td>16.342852</td>\n",
       "      <td>16.665998</td>\n",
       "    </tr>\n",
       "    <tr>\n",
       "      <th>std</th>\n",
       "      <td>29878.130401</td>\n",
       "      <td>4.649341</td>\n",
       "      <td>6.843978</td>\n",
       "      <td>6.112496</td>\n",
       "      <td>0.385040</td>\n",
       "      <td>0.661157</td>\n",
       "      <td>0.758538</td>\n",
       "      <td>15.988779</td>\n",
       "      <td>18.356056</td>\n",
       "      <td>19.447835</td>\n",
       "      <td>...</td>\n",
       "      <td>15.683216</td>\n",
       "      <td>11.387027</td>\n",
       "      <td>19.768914</td>\n",
       "      <td>21.578577</td>\n",
       "      <td>21.181263</td>\n",
       "      <td>17.655976</td>\n",
       "      <td>16.848998</td>\n",
       "      <td>16.516029</td>\n",
       "      <td>16.982910</td>\n",
       "      <td>17.940949</td>\n",
       "    </tr>\n",
       "    <tr>\n",
       "      <th>min</th>\n",
       "      <td>16.000000</td>\n",
       "      <td>16.000000</td>\n",
       "      <td>46.000000</td>\n",
       "      <td>48.000000</td>\n",
       "      <td>1.000000</td>\n",
       "      <td>1.000000</td>\n",
       "      <td>1.000000</td>\n",
       "      <td>1.000000</td>\n",
       "      <td>5.000000</td>\n",
       "      <td>2.000000</td>\n",
       "      <td>...</td>\n",
       "      <td>5.000000</td>\n",
       "      <td>3.000000</td>\n",
       "      <td>3.000000</td>\n",
       "      <td>2.000000</td>\n",
       "      <td>3.000000</td>\n",
       "      <td>1.000000</td>\n",
       "      <td>1.000000</td>\n",
       "      <td>1.000000</td>\n",
       "      <td>1.000000</td>\n",
       "      <td>1.000000</td>\n",
       "    </tr>\n",
       "    <tr>\n",
       "      <th>25%</th>\n",
       "      <td>200353.750000</td>\n",
       "      <td>21.000000</td>\n",
       "      <td>62.000000</td>\n",
       "      <td>67.000000</td>\n",
       "      <td>1.000000</td>\n",
       "      <td>3.000000</td>\n",
       "      <td>2.000000</td>\n",
       "      <td>9.000000</td>\n",
       "      <td>38.000000</td>\n",
       "      <td>30.000000</td>\n",
       "      <td>...</td>\n",
       "      <td>39.000000</td>\n",
       "      <td>51.000000</td>\n",
       "      <td>30.000000</td>\n",
       "      <td>27.000000</td>\n",
       "      <td>24.000000</td>\n",
       "      <td>8.000000</td>\n",
       "      <td>8.000000</td>\n",
       "      <td>8.000000</td>\n",
       "      <td>8.000000</td>\n",
       "      <td>8.000000</td>\n",
       "    </tr>\n",
       "    <tr>\n",
       "      <th>50%</th>\n",
       "      <td>221816.000000</td>\n",
       "      <td>25.000000</td>\n",
       "      <td>66.000000</td>\n",
       "      <td>71.000000</td>\n",
       "      <td>1.000000</td>\n",
       "      <td>3.000000</td>\n",
       "      <td>2.000000</td>\n",
       "      <td>17.000000</td>\n",
       "      <td>54.000000</td>\n",
       "      <td>49.000000</td>\n",
       "      <td>...</td>\n",
       "      <td>50.000000</td>\n",
       "      <td>60.000000</td>\n",
       "      <td>53.000000</td>\n",
       "      <td>55.000000</td>\n",
       "      <td>52.000000</td>\n",
       "      <td>11.000000</td>\n",
       "      <td>11.000000</td>\n",
       "      <td>11.000000</td>\n",
       "      <td>11.000000</td>\n",
       "      <td>11.000000</td>\n",
       "    </tr>\n",
       "    <tr>\n",
       "      <th>75%</th>\n",
       "      <td>236545.000000</td>\n",
       "      <td>28.000000</td>\n",
       "      <td>71.000000</td>\n",
       "      <td>75.000000</td>\n",
       "      <td>1.000000</td>\n",
       "      <td>3.000000</td>\n",
       "      <td>3.000000</td>\n",
       "      <td>26.000000</td>\n",
       "      <td>64.000000</td>\n",
       "      <td>62.000000</td>\n",
       "      <td>...</td>\n",
       "      <td>60.000000</td>\n",
       "      <td>67.000000</td>\n",
       "      <td>64.000000</td>\n",
       "      <td>66.000000</td>\n",
       "      <td>64.000000</td>\n",
       "      <td>14.000000</td>\n",
       "      <td>14.000000</td>\n",
       "      <td>14.000000</td>\n",
       "      <td>14.000000</td>\n",
       "      <td>14.000000</td>\n",
       "    </tr>\n",
       "    <tr>\n",
       "      <th>max</th>\n",
       "      <td>246620.000000</td>\n",
       "      <td>45.000000</td>\n",
       "      <td>94.000000</td>\n",
       "      <td>95.000000</td>\n",
       "      <td>5.000000</td>\n",
       "      <td>5.000000</td>\n",
       "      <td>5.000000</td>\n",
       "      <td>99.000000</td>\n",
       "      <td>93.000000</td>\n",
       "      <td>94.000000</td>\n",
       "      <td>...</td>\n",
       "      <td>90.000000</td>\n",
       "      <td>95.000000</td>\n",
       "      <td>94.000000</td>\n",
       "      <td>93.000000</td>\n",
       "      <td>91.000000</td>\n",
       "      <td>90.000000</td>\n",
       "      <td>92.000000</td>\n",
       "      <td>88.000000</td>\n",
       "      <td>90.000000</td>\n",
       "      <td>94.000000</td>\n",
       "    </tr>\n",
       "  </tbody>\n",
       "</table>\n",
       "<p>8 rows × 42 columns</p>\n",
       "</div>"
      ],
      "text/plain": [
       "                  ID           Age       Overall     Potential  \\\n",
       "count   25490.000000  25490.000000  25490.000000  25490.000000   \n",
       "mean   214357.925343     25.114162     66.261593     71.338486   \n",
       "std     29878.130401      4.649341      6.843978      6.112496   \n",
       "min        16.000000     16.000000     46.000000     48.000000   \n",
       "25%    200353.750000     21.000000     62.000000     67.000000   \n",
       "50%    221816.000000     25.000000     66.000000     71.000000   \n",
       "75%    236545.000000     28.000000     71.000000     75.000000   \n",
       "max    246620.000000     45.000000     94.000000     95.000000   \n",
       "\n",
       "       International Reputation     Weak Foot   Skill Moves  Jersey Number  \\\n",
       "count              25425.000000  25425.000000  25425.000000   25401.000000   \n",
       "mean                   1.109302      2.949656      2.368181      19.576788   \n",
       "std                    0.385040      0.661157      0.758538      15.988779   \n",
       "min                    1.000000      1.000000      1.000000       1.000000   \n",
       "25%                    1.000000      3.000000      2.000000       9.000000   \n",
       "50%                    1.000000      3.000000      2.000000      17.000000   \n",
       "75%                    1.000000      3.000000      3.000000      26.000000   \n",
       "max                    5.000000      5.000000      5.000000      99.000000   \n",
       "\n",
       "           Crossing     Finishing  ...     Penalties     Composure  \\\n",
       "count  25425.000000  25425.000000  ...  25425.000000  25425.000000   \n",
       "mean      49.881180     45.662694  ...     48.663559     58.749853   \n",
       "std       18.356056     19.447835  ...     15.683216     11.387027   \n",
       "min        5.000000      2.000000  ...      5.000000      3.000000   \n",
       "25%       38.000000     30.000000  ...     39.000000     51.000000   \n",
       "50%       54.000000     49.000000  ...     50.000000     60.000000   \n",
       "75%       64.000000     62.000000  ...     60.000000     67.000000   \n",
       "max       93.000000     94.000000  ...     90.000000     95.000000   \n",
       "\n",
       "            Marking  StandingTackle  SlidingTackle      GKDiving  \\\n",
       "count  25425.000000    25425.000000   25425.000000  25425.000000   \n",
       "mean      47.438033       47.816087      45.730305     16.568220   \n",
       "std       19.768914       21.578577      21.181263     17.655976   \n",
       "min        3.000000        2.000000       3.000000      1.000000   \n",
       "25%       30.000000       27.000000      24.000000      8.000000   \n",
       "50%       53.000000       55.000000      52.000000     11.000000   \n",
       "75%       64.000000       66.000000      64.000000     14.000000   \n",
       "max       94.000000       93.000000      91.000000     90.000000   \n",
       "\n",
       "         GKHandling     GKKicking  GKPositioning    GKReflexes  \n",
       "count  25425.000000  25425.000000   25425.000000  25425.000000  \n",
       "mean      16.349066     16.230718      16.342852     16.665998  \n",
       "std       16.848998     16.516029      16.982910     17.940949  \n",
       "min        1.000000      1.000000       1.000000      1.000000  \n",
       "25%        8.000000      8.000000       8.000000      8.000000  \n",
       "50%       11.000000     11.000000      11.000000     11.000000  \n",
       "75%       14.000000     14.000000      14.000000     14.000000  \n",
       "max       92.000000     88.000000      90.000000     94.000000  \n",
       "\n",
       "[8 rows x 42 columns]"
      ]
     },
     "execution_count": 46,
     "metadata": {},
     "output_type": "execute_result"
    }
   ],
   "source": [
    "df.describe()"
   ]
  },
  {
   "cell_type": "code",
   "execution_count": 47,
   "id": "3d5a80fb",
   "metadata": {},
   "outputs": [],
   "source": [
    "df['ID'] = df['ID'].astype('object')"
   ]
  },
  {
   "cell_type": "code",
   "execution_count": 48,
   "id": "0c4babb7",
   "metadata": {},
   "outputs": [],
   "source": [
    "df['International Reputation'] = df['International Reputation'].astype('object')   \n",
    "#because its a encoded data so we treated it as a object"
   ]
  },
  {
   "cell_type": "code",
   "execution_count": 49,
   "id": "833111fa",
   "metadata": {
    "scrolled": false
   },
   "outputs": [
    {
     "data": {
      "text/html": [
       "<div>\n",
       "<style scoped>\n",
       "    .dataframe tbody tr th:only-of-type {\n",
       "        vertical-align: middle;\n",
       "    }\n",
       "\n",
       "    .dataframe tbody tr th {\n",
       "        vertical-align: top;\n",
       "    }\n",
       "\n",
       "    .dataframe thead th {\n",
       "        text-align: right;\n",
       "    }\n",
       "</style>\n",
       "<table border=\"1\" class=\"dataframe\">\n",
       "  <thead>\n",
       "    <tr style=\"text-align: right;\">\n",
       "      <th></th>\n",
       "      <th>ID</th>\n",
       "      <th>Name</th>\n",
       "      <th>Photo</th>\n",
       "      <th>Nationality</th>\n",
       "      <th>Flag</th>\n",
       "      <th>Club</th>\n",
       "      <th>Club Logo</th>\n",
       "      <th>Value</th>\n",
       "      <th>Wage</th>\n",
       "      <th>Preferred Foot</th>\n",
       "      <th>International Reputation</th>\n",
       "      <th>Work Rate</th>\n",
       "      <th>Body Type</th>\n",
       "      <th>Position</th>\n",
       "      <th>Joined</th>\n",
       "      <th>Loaned From</th>\n",
       "      <th>Contract Valid Until</th>\n",
       "      <th>Height</th>\n",
       "      <th>Weight</th>\n",
       "      <th>Release Clause</th>\n",
       "    </tr>\n",
       "  </thead>\n",
       "  <tbody>\n",
       "    <tr>\n",
       "      <th>count</th>\n",
       "      <td>25490</td>\n",
       "      <td>25490</td>\n",
       "      <td>25490</td>\n",
       "      <td>25490</td>\n",
       "      <td>25490</td>\n",
       "      <td>25159</td>\n",
       "      <td>25490</td>\n",
       "      <td>25490</td>\n",
       "      <td>25490</td>\n",
       "      <td>25425</td>\n",
       "      <td>25425.0</td>\n",
       "      <td>25425</td>\n",
       "      <td>25425</td>\n",
       "      <td>25401</td>\n",
       "      <td>23319</td>\n",
       "      <td>1775</td>\n",
       "      <td>25094</td>\n",
       "      <td>25425</td>\n",
       "      <td>25425</td>\n",
       "      <td>23308</td>\n",
       "    </tr>\n",
       "    <tr>\n",
       "      <th>unique</th>\n",
       "      <td>13657</td>\n",
       "      <td>13053</td>\n",
       "      <td>13657</td>\n",
       "      <td>160</td>\n",
       "      <td>160</td>\n",
       "      <td>651</td>\n",
       "      <td>678</td>\n",
       "      <td>204</td>\n",
       "      <td>140</td>\n",
       "      <td>2</td>\n",
       "      <td>5.0</td>\n",
       "      <td>9</td>\n",
       "      <td>9</td>\n",
       "      <td>27</td>\n",
       "      <td>1559</td>\n",
       "      <td>308</td>\n",
       "      <td>34</td>\n",
       "      <td>21</td>\n",
       "      <td>56</td>\n",
       "      <td>1163</td>\n",
       "    </tr>\n",
       "    <tr>\n",
       "      <th>top</th>\n",
       "      <td>237679</td>\n",
       "      <td>R. Williams</td>\n",
       "      <td>https://cdn.sofifa.org/players/4/19/237679.png</td>\n",
       "      <td>England</td>\n",
       "      <td>https://cdn.sofifa.org/flags/14.png</td>\n",
       "      <td>Empoli</td>\n",
       "      <td>https://cdn.sofifa.org/teams/2/light/1746.png</td>\n",
       "      <td>€1.1M</td>\n",
       "      <td>€1K</td>\n",
       "      <td>Right</td>\n",
       "      <td>1.0</td>\n",
       "      <td>Medium/ Medium</td>\n",
       "      <td>Normal</td>\n",
       "      <td>ST</td>\n",
       "      <td>Jul 1, 2018</td>\n",
       "      <td>Atalanta</td>\n",
       "      <td>2019</td>\n",
       "      <td>6'0</td>\n",
       "      <td>165lbs</td>\n",
       "      <td>€1.1M</td>\n",
       "    </tr>\n",
       "    <tr>\n",
       "      <th>freq</th>\n",
       "      <td>8</td>\n",
       "      <td>13</td>\n",
       "      <td>8</td>\n",
       "      <td>2332</td>\n",
       "      <td>2332</td>\n",
       "      <td>64</td>\n",
       "      <td>64</td>\n",
       "      <td>621</td>\n",
       "      <td>6805</td>\n",
       "      <td>19454</td>\n",
       "      <td>23205.0</td>\n",
       "      <td>13687</td>\n",
       "      <td>14870</td>\n",
       "      <td>2882</td>\n",
       "      <td>2169</td>\n",
       "      <td>34</td>\n",
       "      <td>6825</td>\n",
       "      <td>3940</td>\n",
       "      <td>2064</td>\n",
       "      <td>785</td>\n",
       "    </tr>\n",
       "  </tbody>\n",
       "</table>\n",
       "</div>"
      ],
      "text/plain": [
       "            ID         Name                                           Photo  \\\n",
       "count    25490        25490                                           25490   \n",
       "unique   13657        13053                                           13657   \n",
       "top     237679  R. Williams  https://cdn.sofifa.org/players/4/19/237679.png   \n",
       "freq         8           13                                               8   \n",
       "\n",
       "       Nationality                                 Flag    Club  \\\n",
       "count        25490                                25490   25159   \n",
       "unique         160                                  160     651   \n",
       "top        England  https://cdn.sofifa.org/flags/14.png  Empoli   \n",
       "freq          2332                                 2332      64   \n",
       "\n",
       "                                            Club Logo  Value   Wage  \\\n",
       "count                                           25490  25490  25490   \n",
       "unique                                            678    204    140   \n",
       "top     https://cdn.sofifa.org/teams/2/light/1746.png  €1.1M    €1K   \n",
       "freq                                               64    621   6805   \n",
       "\n",
       "       Preferred Foot  International Reputation       Work Rate Body Type  \\\n",
       "count           25425                   25425.0           25425     25425   \n",
       "unique              2                       5.0               9         9   \n",
       "top             Right                       1.0  Medium/ Medium    Normal   \n",
       "freq            19454                   23205.0           13687     14870   \n",
       "\n",
       "       Position       Joined Loaned From Contract Valid Until Height  Weight  \\\n",
       "count     25401        23319        1775                25094  25425   25425   \n",
       "unique       27         1559         308                   34     21      56   \n",
       "top          ST  Jul 1, 2018    Atalanta                 2019    6'0  165lbs   \n",
       "freq       2882         2169          34                 6825   3940    2064   \n",
       "\n",
       "       Release Clause  \n",
       "count           23308  \n",
       "unique           1163  \n",
       "top             €1.1M  \n",
       "freq              785  "
      ]
     },
     "execution_count": 49,
     "metadata": {},
     "output_type": "execute_result"
    }
   ],
   "source": [
    "df.describe(include = 'object')"
   ]
  },
  {
   "cell_type": "markdown",
   "id": "79a2a3aa",
   "metadata": {},
   "source": [
    "### 2. Drop any columns that you deem unnecessary for analysis."
   ]
  },
  {
   "cell_type": "code",
   "execution_count": 50,
   "id": "1c5ba9f3",
   "metadata": {
    "scrolled": false
   },
   "outputs": [],
   "source": [
    "df.drop(columns = ['Photo','Flag','Club Logo'],inplace = True)\n"
   ]
  },
  {
   "cell_type": "code",
   "execution_count": 51,
   "id": "e4b196df",
   "metadata": {},
   "outputs": [
    {
     "data": {
      "text/html": [
       "<div>\n",
       "<style scoped>\n",
       "    .dataframe tbody tr th:only-of-type {\n",
       "        vertical-align: middle;\n",
       "    }\n",
       "\n",
       "    .dataframe tbody tr th {\n",
       "        vertical-align: top;\n",
       "    }\n",
       "\n",
       "    .dataframe thead th {\n",
       "        text-align: right;\n",
       "    }\n",
       "</style>\n",
       "<table border=\"1\" class=\"dataframe\">\n",
       "  <thead>\n",
       "    <tr style=\"text-align: right;\">\n",
       "      <th></th>\n",
       "      <th>ID</th>\n",
       "      <th>Name</th>\n",
       "      <th>Age</th>\n",
       "      <th>Nationality</th>\n",
       "      <th>Overall</th>\n",
       "      <th>Potential</th>\n",
       "      <th>Club</th>\n",
       "      <th>Value</th>\n",
       "      <th>Wage</th>\n",
       "      <th>Preferred Foot</th>\n",
       "      <th>...</th>\n",
       "      <th>Composure</th>\n",
       "      <th>Marking</th>\n",
       "      <th>StandingTackle</th>\n",
       "      <th>SlidingTackle</th>\n",
       "      <th>GKDiving</th>\n",
       "      <th>GKHandling</th>\n",
       "      <th>GKKicking</th>\n",
       "      <th>GKPositioning</th>\n",
       "      <th>GKReflexes</th>\n",
       "      <th>Release Clause</th>\n",
       "    </tr>\n",
       "  </thead>\n",
       "  <tbody>\n",
       "    <tr>\n",
       "      <th>0</th>\n",
       "      <td>240331</td>\n",
       "      <td>P. Camará</td>\n",
       "      <td>21</td>\n",
       "      <td>Guinea Bissau</td>\n",
       "      <td>58</td>\n",
       "      <td>69</td>\n",
       "      <td>Crawley Town</td>\n",
       "      <td>€220K</td>\n",
       "      <td>€1K</td>\n",
       "      <td>Right</td>\n",
       "      <td>...</td>\n",
       "      <td>46.0</td>\n",
       "      <td>14.0</td>\n",
       "      <td>18.0</td>\n",
       "      <td>15.0</td>\n",
       "      <td>7.0</td>\n",
       "      <td>9.0</td>\n",
       "      <td>9.0</td>\n",
       "      <td>6.0</td>\n",
       "      <td>15.0</td>\n",
       "      <td>€429K</td>\n",
       "    </tr>\n",
       "    <tr>\n",
       "      <th>1</th>\n",
       "      <td>183465</td>\n",
       "      <td>J. Rodwell</td>\n",
       "      <td>27</td>\n",
       "      <td>England</td>\n",
       "      <td>68</td>\n",
       "      <td>68</td>\n",
       "      <td>Blackburn Rovers</td>\n",
       "      <td>€925K</td>\n",
       "      <td>€16K</td>\n",
       "      <td>Right</td>\n",
       "      <td>...</td>\n",
       "      <td>69.0</td>\n",
       "      <td>66.0</td>\n",
       "      <td>69.0</td>\n",
       "      <td>64.0</td>\n",
       "      <td>9.0</td>\n",
       "      <td>10.0</td>\n",
       "      <td>15.0</td>\n",
       "      <td>11.0</td>\n",
       "      <td>12.0</td>\n",
       "      <td>€1.8M</td>\n",
       "    </tr>\n",
       "    <tr>\n",
       "      <th>2</th>\n",
       "      <td>205186</td>\n",
       "      <td>P. Gazzaniga</td>\n",
       "      <td>26</td>\n",
       "      <td>Argentina</td>\n",
       "      <td>74</td>\n",
       "      <td>78</td>\n",
       "      <td>Tottenham Hotspur</td>\n",
       "      <td>€5M</td>\n",
       "      <td>€46K</td>\n",
       "      <td>Right</td>\n",
       "      <td>...</td>\n",
       "      <td>55.0</td>\n",
       "      <td>23.0</td>\n",
       "      <td>20.0</td>\n",
       "      <td>11.0</td>\n",
       "      <td>76.0</td>\n",
       "      <td>73.0</td>\n",
       "      <td>84.0</td>\n",
       "      <td>72.0</td>\n",
       "      <td>76.0</td>\n",
       "      <td>€9.6M</td>\n",
       "    </tr>\n",
       "    <tr>\n",
       "      <th>3</th>\n",
       "      <td>233531</td>\n",
       "      <td>Y. Soteldo</td>\n",
       "      <td>21</td>\n",
       "      <td>Venezuela</td>\n",
       "      <td>71</td>\n",
       "      <td>81</td>\n",
       "      <td>Universidad de Chile</td>\n",
       "      <td>€3.8M</td>\n",
       "      <td>€6K</td>\n",
       "      <td>Right</td>\n",
       "      <td>...</td>\n",
       "      <td>65.0</td>\n",
       "      <td>25.0</td>\n",
       "      <td>23.0</td>\n",
       "      <td>20.0</td>\n",
       "      <td>13.0</td>\n",
       "      <td>7.0</td>\n",
       "      <td>9.0</td>\n",
       "      <td>13.0</td>\n",
       "      <td>6.0</td>\n",
       "      <td>€6.1M</td>\n",
       "    </tr>\n",
       "    <tr>\n",
       "      <th>4</th>\n",
       "      <td>243718</td>\n",
       "      <td>R. Koot</td>\n",
       "      <td>18</td>\n",
       "      <td>Netherlands</td>\n",
       "      <td>56</td>\n",
       "      <td>68</td>\n",
       "      <td>Fortuna Sittard</td>\n",
       "      <td>€120K</td>\n",
       "      <td>€1K</td>\n",
       "      <td>Right</td>\n",
       "      <td>...</td>\n",
       "      <td>39.0</td>\n",
       "      <td>11.0</td>\n",
       "      <td>14.0</td>\n",
       "      <td>12.0</td>\n",
       "      <td>59.0</td>\n",
       "      <td>55.0</td>\n",
       "      <td>59.0</td>\n",
       "      <td>55.0</td>\n",
       "      <td>56.0</td>\n",
       "      <td>€198K</td>\n",
       "    </tr>\n",
       "  </tbody>\n",
       "</table>\n",
       "<p>5 rows × 57 columns</p>\n",
       "</div>"
      ],
      "text/plain": [
       "       ID          Name  Age    Nationality  Overall  Potential  \\\n",
       "0  240331     P. Camará   21  Guinea Bissau       58         69   \n",
       "1  183465    J. Rodwell   27        England       68         68   \n",
       "2  205186  P. Gazzaniga   26      Argentina       74         78   \n",
       "3  233531    Y. Soteldo   21      Venezuela       71         81   \n",
       "4  243718       R. Koot   18    Netherlands       56         68   \n",
       "\n",
       "                   Club  Value  Wage Preferred Foot  ... Composure  Marking  \\\n",
       "0          Crawley Town  €220K   €1K          Right  ...      46.0     14.0   \n",
       "1      Blackburn Rovers  €925K  €16K          Right  ...      69.0     66.0   \n",
       "2     Tottenham Hotspur    €5M  €46K          Right  ...      55.0     23.0   \n",
       "3  Universidad de Chile  €3.8M   €6K          Right  ...      65.0     25.0   \n",
       "4       Fortuna Sittard  €120K   €1K          Right  ...      39.0     11.0   \n",
       "\n",
       "   StandingTackle SlidingTackle GKDiving GKHandling  GKKicking GKPositioning  \\\n",
       "0            18.0          15.0      7.0        9.0        9.0           6.0   \n",
       "1            69.0          64.0      9.0       10.0       15.0          11.0   \n",
       "2            20.0          11.0     76.0       73.0       84.0          72.0   \n",
       "3            23.0          20.0     13.0        7.0        9.0          13.0   \n",
       "4            14.0          12.0     59.0       55.0       59.0          55.0   \n",
       "\n",
       "  GKReflexes Release Clause  \n",
       "0       15.0          €429K  \n",
       "1       12.0          €1.8M  \n",
       "2       76.0          €9.6M  \n",
       "3        6.0          €6.1M  \n",
       "4       56.0          €198K  \n",
       "\n",
       "[5 rows x 57 columns]"
      ]
     },
     "execution_count": 51,
     "metadata": {},
     "output_type": "execute_result"
    }
   ],
   "source": [
    "df.head()"
   ]
  },
  {
   "cell_type": "code",
   "execution_count": 52,
   "id": "74918b67",
   "metadata": {},
   "outputs": [],
   "source": [
    "#The columns Photo ,Flag,Club Logo are unnecessary data so we dropped it."
   ]
  },
  {
   "cell_type": "markdown",
   "id": "3a238319",
   "metadata": {},
   "source": [
    "### 3. The following columns need to be converted for further analysis:"
   ]
  },
  {
   "cell_type": "code",
   "execution_count": 53,
   "id": "e8abe94d",
   "metadata": {},
   "outputs": [],
   "source": [
    "df['Value'] = df['Value'].apply(lambda x: x.replace('M','').replace('K','').replace('€','')).astype(float)"
   ]
  },
  {
   "cell_type": "code",
   "execution_count": 54,
   "id": "ed32a8d5",
   "metadata": {
    "scrolled": false
   },
   "outputs": [
    {
     "data": {
      "text/plain": [
       "dtype('float64')"
      ]
     },
     "execution_count": 54,
     "metadata": {},
     "output_type": "execute_result"
    }
   ],
   "source": [
    "df['Value'].dtypes"
   ]
  },
  {
   "cell_type": "code",
   "execution_count": 55,
   "id": "9b359870",
   "metadata": {},
   "outputs": [
    {
     "data": {
      "text/html": [
       "<div>\n",
       "<style scoped>\n",
       "    .dataframe tbody tr th:only-of-type {\n",
       "        vertical-align: middle;\n",
       "    }\n",
       "\n",
       "    .dataframe tbody tr th {\n",
       "        vertical-align: top;\n",
       "    }\n",
       "\n",
       "    .dataframe thead th {\n",
       "        text-align: right;\n",
       "    }\n",
       "</style>\n",
       "<table border=\"1\" class=\"dataframe\">\n",
       "  <thead>\n",
       "    <tr style=\"text-align: right;\">\n",
       "      <th></th>\n",
       "      <th>Value</th>\n",
       "    </tr>\n",
       "  </thead>\n",
       "  <tbody>\n",
       "    <tr>\n",
       "      <th>0</th>\n",
       "      <td>220.0</td>\n",
       "    </tr>\n",
       "    <tr>\n",
       "      <th>1</th>\n",
       "      <td>925.0</td>\n",
       "    </tr>\n",
       "    <tr>\n",
       "      <th>2</th>\n",
       "      <td>5.0</td>\n",
       "    </tr>\n",
       "    <tr>\n",
       "      <th>3</th>\n",
       "      <td>3.8</td>\n",
       "    </tr>\n",
       "    <tr>\n",
       "      <th>4</th>\n",
       "      <td>120.0</td>\n",
       "    </tr>\n",
       "  </tbody>\n",
       "</table>\n",
       "</div>"
      ],
      "text/plain": [
       "   Value\n",
       "0  220.0\n",
       "1  925.0\n",
       "2    5.0\n",
       "3    3.8\n",
       "4  120.0"
      ]
     },
     "execution_count": 55,
     "metadata": {},
     "output_type": "execute_result"
    }
   ],
   "source": [
    "df[['Value']].head()"
   ]
  },
  {
   "cell_type": "code",
   "execution_count": 56,
   "id": "c85acf30",
   "metadata": {},
   "outputs": [],
   "source": [
    "df['Wage'] = df['Wage'].apply(lambda x: x.replace('M','').replace('K','').replace('€','')).astype(float)"
   ]
  },
  {
   "cell_type": "code",
   "execution_count": 57,
   "id": "2e1a329c",
   "metadata": {},
   "outputs": [
    {
     "data": {
      "text/html": [
       "<div>\n",
       "<style scoped>\n",
       "    .dataframe tbody tr th:only-of-type {\n",
       "        vertical-align: middle;\n",
       "    }\n",
       "\n",
       "    .dataframe tbody tr th {\n",
       "        vertical-align: top;\n",
       "    }\n",
       "\n",
       "    .dataframe thead th {\n",
       "        text-align: right;\n",
       "    }\n",
       "</style>\n",
       "<table border=\"1\" class=\"dataframe\">\n",
       "  <thead>\n",
       "    <tr style=\"text-align: right;\">\n",
       "      <th></th>\n",
       "      <th>Wage</th>\n",
       "    </tr>\n",
       "  </thead>\n",
       "  <tbody>\n",
       "    <tr>\n",
       "      <th>0</th>\n",
       "      <td>1.0</td>\n",
       "    </tr>\n",
       "    <tr>\n",
       "      <th>1</th>\n",
       "      <td>16.0</td>\n",
       "    </tr>\n",
       "    <tr>\n",
       "      <th>2</th>\n",
       "      <td>46.0</td>\n",
       "    </tr>\n",
       "    <tr>\n",
       "      <th>3</th>\n",
       "      <td>6.0</td>\n",
       "    </tr>\n",
       "    <tr>\n",
       "      <th>4</th>\n",
       "      <td>1.0</td>\n",
       "    </tr>\n",
       "  </tbody>\n",
       "</table>\n",
       "</div>"
      ],
      "text/plain": [
       "   Wage\n",
       "0   1.0\n",
       "1  16.0\n",
       "2  46.0\n",
       "3   6.0\n",
       "4   1.0"
      ]
     },
     "execution_count": 57,
     "metadata": {},
     "output_type": "execute_result"
    }
   ],
   "source": [
    "df[['Wage']].head()"
   ]
  },
  {
   "cell_type": "code",
   "execution_count": 58,
   "id": "14ba8548",
   "metadata": {},
   "outputs": [
    {
     "data": {
      "text/plain": [
       "Jul 1, 2018    2169\n",
       "Jul 1, 2017    1586\n",
       "Jan 1, 2018     903\n",
       "Jul 1, 2016     844\n",
       "Jul 1, 2015     516\n",
       "               ... \n",
       "Dec 7, 2015       1\n",
       "Mar 6, 2018       1\n",
       "Jun 3, 2013       1\n",
       "Mar 9, 2017       1\n",
       "May 4, 2010       1\n",
       "Name: Joined, Length: 1559, dtype: int64"
      ]
     },
     "execution_count": 58,
     "metadata": {},
     "output_type": "execute_result"
    }
   ],
   "source": [
    "df['Joined'].value_counts()"
   ]
  },
  {
   "cell_type": "code",
   "execution_count": 59,
   "id": "ec758a05",
   "metadata": {},
   "outputs": [],
   "source": [
    "#conterting the column into date and time\n",
    "df['Joined']= pd.to_datetime(df['Joined'])\n",
    "df['Joined'] = (df['Joined'].dt.year)\n",
    "\n",
    "#we converted it into only year .."
   ]
  },
  {
   "cell_type": "code",
   "execution_count": 60,
   "id": "c01a6684",
   "metadata": {},
   "outputs": [],
   "source": [
    "df['Joined'] = df['Joined'].fillna(0)   \n",
    "#there are some null values if we need change the dtype into int we should replace the null values \n",
    "#usinf fillna we replaced it into (0)"
   ]
  },
  {
   "cell_type": "code",
   "execution_count": 61,
   "id": "e2e854f1",
   "metadata": {
    "scrolled": true
   },
   "outputs": [
    {
     "data": {
      "text/html": [
       "<div>\n",
       "<style scoped>\n",
       "    .dataframe tbody tr th:only-of-type {\n",
       "        vertical-align: middle;\n",
       "    }\n",
       "\n",
       "    .dataframe tbody tr th {\n",
       "        vertical-align: top;\n",
       "    }\n",
       "\n",
       "    .dataframe thead th {\n",
       "        text-align: right;\n",
       "    }\n",
       "</style>\n",
       "<table border=\"1\" class=\"dataframe\">\n",
       "  <thead>\n",
       "    <tr style=\"text-align: right;\">\n",
       "      <th></th>\n",
       "      <th>Joined</th>\n",
       "    </tr>\n",
       "  </thead>\n",
       "  <tbody>\n",
       "    <tr>\n",
       "      <th>0</th>\n",
       "      <td>2017</td>\n",
       "    </tr>\n",
       "    <tr>\n",
       "      <th>1</th>\n",
       "      <td>2018</td>\n",
       "    </tr>\n",
       "    <tr>\n",
       "      <th>2</th>\n",
       "      <td>2017</td>\n",
       "    </tr>\n",
       "    <tr>\n",
       "      <th>3</th>\n",
       "      <td>2018</td>\n",
       "    </tr>\n",
       "    <tr>\n",
       "      <th>4</th>\n",
       "      <td>2016</td>\n",
       "    </tr>\n",
       "  </tbody>\n",
       "</table>\n",
       "</div>"
      ],
      "text/plain": [
       "   Joined\n",
       "0    2017\n",
       "1    2018\n",
       "2    2017\n",
       "3    2018\n",
       "4    2016"
      ]
     },
     "execution_count": 61,
     "metadata": {},
     "output_type": "execute_result"
    }
   ],
   "source": [
    "df['Joined'] = df['Joined'].astype(int)\n",
    "df[['Joined']].head()"
   ]
  },
  {
   "cell_type": "code",
   "execution_count": 62,
   "id": "381cf51b",
   "metadata": {},
   "outputs": [
    {
     "data": {
      "text/plain": [
       "dtype('int32')"
      ]
     },
     "execution_count": 62,
     "metadata": {},
     "output_type": "execute_result"
    }
   ],
   "source": [
    "df['Joined'].dtypes"
   ]
  },
  {
   "cell_type": "code",
   "execution_count": 63,
   "id": "34828de2",
   "metadata": {},
   "outputs": [
    {
     "data": {
      "text/plain": [
       "0        2019.0\n",
       "1        2019.0\n",
       "2        2022.0\n",
       "3        2018.0\n",
       "4        2020.0\n",
       "          ...  \n",
       "25485    2022.0\n",
       "25486    2022.0\n",
       "25487    2021.0\n",
       "25488    2021.0\n",
       "25489    2020.0\n",
       "Name: Contract Valid Until, Length: 25490, dtype: float64"
      ]
     },
     "execution_count": 63,
     "metadata": {},
     "output_type": "execute_result"
    }
   ],
   "source": [
    "df['Contract Valid Until'] = pd.DatetimeIndex(df['Contract Valid Until']).year\n",
    "df['Contract Valid Until']"
   ]
  },
  {
   "cell_type": "code",
   "execution_count": 64,
   "id": "cb7b095e",
   "metadata": {},
   "outputs": [
    {
     "data": {
      "text/plain": [
       "dtype('float64')"
      ]
     },
     "execution_count": 64,
     "metadata": {},
     "output_type": "execute_result"
    }
   ],
   "source": [
    "df['Contract Valid Until'].dtypes"
   ]
  },
  {
   "cell_type": "code",
   "execution_count": 65,
   "id": "572dab10",
   "metadata": {},
   "outputs": [
    {
     "data": {
      "text/plain": [
       "array([\"6'1\", \"6'2\", \"6'5\", \"5'3\", \"5'8\", \"5'11\", \"5'10\", \"5'9\", \"6'3\",\n",
       "       \"5'7\", \"6'0\", \"6'4\", \"5'4\", \"5'5\", \"5'6\", \"6'6\", nan, \"6'8\", \"5'2\",\n",
       "       \"6'7\", \"5'1\", \"6'9\"], dtype=object)"
      ]
     },
     "execution_count": 65,
     "metadata": {},
     "output_type": "execute_result"
    }
   ],
   "source": [
    "df['Height'].unique()"
   ]
  },
  {
   "cell_type": "code",
   "execution_count": 66,
   "id": "18f95e46",
   "metadata": {},
   "outputs": [],
   "source": [
    "#we found that there are no zero's only  null values in the variable we have to change it \n",
    "#using fillna we are gonna change the null values"
   ]
  },
  {
   "cell_type": "code",
   "execution_count": 67,
   "id": "0e63839b",
   "metadata": {},
   "outputs": [],
   "source": [
    "df['Height'] = df['Height'].fillna(\"0\")"
   ]
  },
  {
   "cell_type": "code",
   "execution_count": 68,
   "id": "ea64c697",
   "metadata": {
    "scrolled": false
   },
   "outputs": [],
   "source": [
    "df['Height'] = df['Height'].apply(lambda x: x.replace(\"'\",'.')).astype(float)\n"
   ]
  },
  {
   "cell_type": "code",
   "execution_count": 69,
   "id": "77399916",
   "metadata": {
    "scrolled": true
   },
   "outputs": [
    {
     "data": {
      "text/html": [
       "<div>\n",
       "<style scoped>\n",
       "    .dataframe tbody tr th:only-of-type {\n",
       "        vertical-align: middle;\n",
       "    }\n",
       "\n",
       "    .dataframe tbody tr th {\n",
       "        vertical-align: top;\n",
       "    }\n",
       "\n",
       "    .dataframe thead th {\n",
       "        text-align: right;\n",
       "    }\n",
       "</style>\n",
       "<table border=\"1\" class=\"dataframe\">\n",
       "  <thead>\n",
       "    <tr style=\"text-align: right;\">\n",
       "      <th></th>\n",
       "      <th>Height</th>\n",
       "    </tr>\n",
       "  </thead>\n",
       "  <tbody>\n",
       "    <tr>\n",
       "      <th>0</th>\n",
       "      <td>6.1</td>\n",
       "    </tr>\n",
       "    <tr>\n",
       "      <th>1</th>\n",
       "      <td>6.2</td>\n",
       "    </tr>\n",
       "    <tr>\n",
       "      <th>2</th>\n",
       "      <td>6.5</td>\n",
       "    </tr>\n",
       "    <tr>\n",
       "      <th>3</th>\n",
       "      <td>5.3</td>\n",
       "    </tr>\n",
       "    <tr>\n",
       "      <th>4</th>\n",
       "      <td>6.1</td>\n",
       "    </tr>\n",
       "  </tbody>\n",
       "</table>\n",
       "</div>"
      ],
      "text/plain": [
       "   Height\n",
       "0     6.1\n",
       "1     6.2\n",
       "2     6.5\n",
       "3     5.3\n",
       "4     6.1"
      ]
     },
     "execution_count": 69,
     "metadata": {},
     "output_type": "execute_result"
    }
   ],
   "source": [
    "df[['Height']].head()"
   ]
  },
  {
   "cell_type": "code",
   "execution_count": 70,
   "id": "29b08721",
   "metadata": {},
   "outputs": [
    {
     "data": {
      "text/plain": [
       "dtype('float64')"
      ]
     },
     "execution_count": 70,
     "metadata": {},
     "output_type": "execute_result"
    }
   ],
   "source": [
    "df['Height'].dtypes"
   ]
  },
  {
   "cell_type": "code",
   "execution_count": 71,
   "id": "ee616bf6",
   "metadata": {
    "scrolled": true
   },
   "outputs": [
    {
     "data": {
      "text/plain": [
       "array(['161lbs', '172lbs', '198lbs', '121lbs', '176lbs', '207lbs',\n",
       "       '152lbs', '165lbs', '170lbs', '157lbs', '179lbs', '174lbs',\n",
       "       '190lbs', '154lbs', '187lbs', '146lbs', '141lbs', '148lbs',\n",
       "       '139lbs', '168lbs', '163lbs', '183lbs', '159lbs', '150lbs',\n",
       "       '209lbs', '143lbs', '137lbs', '192lbs', '134lbs', '181lbs',\n",
       "       '194lbs', '123lbs', '185lbs', '132lbs', '201lbs', '196lbs', nan,\n",
       "       '212lbs', '205lbs', '130lbs', '128lbs', '203lbs', '119lbs',\n",
       "       '214lbs', '117lbs', '220lbs', '216lbs', '227lbs', '126lbs',\n",
       "       '223lbs', '218lbs', '225lbs', '110lbs', '243lbs', '236lbs',\n",
       "       '234lbs', '229lbs'], dtype=object)"
      ]
     },
     "execution_count": 71,
     "metadata": {},
     "output_type": "execute_result"
    }
   ],
   "source": [
    "df['Weight'].unique()"
   ]
  },
  {
   "cell_type": "code",
   "execution_count": 72,
   "id": "b6780b49",
   "metadata": {},
   "outputs": [],
   "source": [
    "#we found that there are no zero's only  null values in the variable we have to change it \n",
    "#using fillna we are gonna change the null values"
   ]
  },
  {
   "cell_type": "code",
   "execution_count": 73,
   "id": "4f354b87",
   "metadata": {},
   "outputs": [],
   "source": [
    "df['Weight'] = df['Weight'].fillna(\"0\")"
   ]
  },
  {
   "cell_type": "code",
   "execution_count": 74,
   "id": "71793e91",
   "metadata": {
    "scrolled": false
   },
   "outputs": [],
   "source": [
    "df['Weight'] = df['Weight'].apply(lambda x: x.replace('lbs','')).astype(float)"
   ]
  },
  {
   "cell_type": "code",
   "execution_count": 75,
   "id": "21fe0bf5",
   "metadata": {
    "scrolled": true
   },
   "outputs": [
    {
     "data": {
      "text/plain": [
       "dtype('float64')"
      ]
     },
     "execution_count": 75,
     "metadata": {},
     "output_type": "execute_result"
    }
   ],
   "source": [
    "df['Weight'].dtypes"
   ]
  },
  {
   "cell_type": "code",
   "execution_count": 76,
   "id": "beaf7e2e",
   "metadata": {},
   "outputs": [
    {
     "data": {
      "text/html": [
       "<div>\n",
       "<style scoped>\n",
       "    .dataframe tbody tr th:only-of-type {\n",
       "        vertical-align: middle;\n",
       "    }\n",
       "\n",
       "    .dataframe tbody tr th {\n",
       "        vertical-align: top;\n",
       "    }\n",
       "\n",
       "    .dataframe thead th {\n",
       "        text-align: right;\n",
       "    }\n",
       "</style>\n",
       "<table border=\"1\" class=\"dataframe\">\n",
       "  <thead>\n",
       "    <tr style=\"text-align: right;\">\n",
       "      <th></th>\n",
       "      <th>Weight</th>\n",
       "    </tr>\n",
       "  </thead>\n",
       "  <tbody>\n",
       "    <tr>\n",
       "      <th>0</th>\n",
       "      <td>161.0</td>\n",
       "    </tr>\n",
       "    <tr>\n",
       "      <th>1</th>\n",
       "      <td>172.0</td>\n",
       "    </tr>\n",
       "    <tr>\n",
       "      <th>2</th>\n",
       "      <td>198.0</td>\n",
       "    </tr>\n",
       "    <tr>\n",
       "      <th>3</th>\n",
       "      <td>121.0</td>\n",
       "    </tr>\n",
       "    <tr>\n",
       "      <th>4</th>\n",
       "      <td>176.0</td>\n",
       "    </tr>\n",
       "  </tbody>\n",
       "</table>\n",
       "</div>"
      ],
      "text/plain": [
       "   Weight\n",
       "0   161.0\n",
       "1   172.0\n",
       "2   198.0\n",
       "3   121.0\n",
       "4   176.0"
      ]
     },
     "execution_count": 76,
     "metadata": {},
     "output_type": "execute_result"
    }
   ],
   "source": [
    "df[['Weight']].head()"
   ]
  },
  {
   "cell_type": "code",
   "execution_count": 77,
   "id": "99197347",
   "metadata": {
    "scrolled": false
   },
   "outputs": [],
   "source": [
    "df['Release Clause'] = df['Release Clause'].fillna('0')"
   ]
  },
  {
   "cell_type": "code",
   "execution_count": 78,
   "id": "1a87b20a",
   "metadata": {},
   "outputs": [],
   "source": [
    "df['Release Clause'] = df['Release Clause'].apply(lambda x: x.replace('M','').replace('K','').replace('€','')).astype(float)"
   ]
  },
  {
   "cell_type": "code",
   "execution_count": 79,
   "id": "ac1873e5",
   "metadata": {},
   "outputs": [
    {
     "data": {
      "text/plain": [
       "dtype('float64')"
      ]
     },
     "execution_count": 79,
     "metadata": {},
     "output_type": "execute_result"
    }
   ],
   "source": [
    "df['Release Clause'].dtypes"
   ]
  },
  {
   "cell_type": "code",
   "execution_count": 80,
   "id": "ab77cabb",
   "metadata": {},
   "outputs": [
    {
     "data": {
      "text/html": [
       "<div>\n",
       "<style scoped>\n",
       "    .dataframe tbody tr th:only-of-type {\n",
       "        vertical-align: middle;\n",
       "    }\n",
       "\n",
       "    .dataframe tbody tr th {\n",
       "        vertical-align: top;\n",
       "    }\n",
       "\n",
       "    .dataframe thead th {\n",
       "        text-align: right;\n",
       "    }\n",
       "</style>\n",
       "<table border=\"1\" class=\"dataframe\">\n",
       "  <thead>\n",
       "    <tr style=\"text-align: right;\">\n",
       "      <th></th>\n",
       "      <th>Release Clause</th>\n",
       "    </tr>\n",
       "  </thead>\n",
       "  <tbody>\n",
       "    <tr>\n",
       "      <th>0</th>\n",
       "      <td>429.0</td>\n",
       "    </tr>\n",
       "    <tr>\n",
       "      <th>1</th>\n",
       "      <td>1.8</td>\n",
       "    </tr>\n",
       "    <tr>\n",
       "      <th>2</th>\n",
       "      <td>9.6</td>\n",
       "    </tr>\n",
       "    <tr>\n",
       "      <th>3</th>\n",
       "      <td>6.1</td>\n",
       "    </tr>\n",
       "    <tr>\n",
       "      <th>4</th>\n",
       "      <td>198.0</td>\n",
       "    </tr>\n",
       "  </tbody>\n",
       "</table>\n",
       "</div>"
      ],
      "text/plain": [
       "   Release Clause\n",
       "0           429.0\n",
       "1             1.8\n",
       "2             9.6\n",
       "3             6.1\n",
       "4           198.0"
      ]
     },
     "execution_count": 80,
     "metadata": {},
     "output_type": "execute_result"
    }
   ],
   "source": [
    "df[['Release Clause']].head()"
   ]
  },
  {
   "cell_type": "markdown",
   "id": "4ae5d60a",
   "metadata": {},
   "source": [
    "### 4. Check the duplicate records and do appropriate treatments."
   ]
  },
  {
   "cell_type": "code",
   "execution_count": 81,
   "id": "2621a00e",
   "metadata": {
    "scrolled": true
   },
   "outputs": [
    {
     "data": {
      "text/html": [
       "<div>\n",
       "<style scoped>\n",
       "    .dataframe tbody tr th:only-of-type {\n",
       "        vertical-align: middle;\n",
       "    }\n",
       "\n",
       "    .dataframe tbody tr th {\n",
       "        vertical-align: top;\n",
       "    }\n",
       "\n",
       "    .dataframe thead th {\n",
       "        text-align: right;\n",
       "    }\n",
       "</style>\n",
       "<table border=\"1\" class=\"dataframe\">\n",
       "  <thead>\n",
       "    <tr style=\"text-align: right;\">\n",
       "      <th></th>\n",
       "      <th>ID</th>\n",
       "      <th>Name</th>\n",
       "      <th>Age</th>\n",
       "      <th>Nationality</th>\n",
       "      <th>Overall</th>\n",
       "      <th>Potential</th>\n",
       "      <th>Club</th>\n",
       "      <th>Value</th>\n",
       "      <th>Wage</th>\n",
       "      <th>Preferred Foot</th>\n",
       "      <th>...</th>\n",
       "      <th>Composure</th>\n",
       "      <th>Marking</th>\n",
       "      <th>StandingTackle</th>\n",
       "      <th>SlidingTackle</th>\n",
       "      <th>GKDiving</th>\n",
       "      <th>GKHandling</th>\n",
       "      <th>GKKicking</th>\n",
       "      <th>GKPositioning</th>\n",
       "      <th>GKReflexes</th>\n",
       "      <th>Release Clause</th>\n",
       "    </tr>\n",
       "  </thead>\n",
       "  <tbody>\n",
       "    <tr>\n",
       "      <th>152</th>\n",
       "      <td>211732</td>\n",
       "      <td>T. Thiele</td>\n",
       "      <td>26</td>\n",
       "      <td>Germany</td>\n",
       "      <td>67</td>\n",
       "      <td>68</td>\n",
       "      <td>1. FC Kaiserslautern</td>\n",
       "      <td>900.0</td>\n",
       "      <td>3.0</td>\n",
       "      <td>Right</td>\n",
       "      <td>...</td>\n",
       "      <td>68.0</td>\n",
       "      <td>18.0</td>\n",
       "      <td>16.0</td>\n",
       "      <td>17.0</td>\n",
       "      <td>15.0</td>\n",
       "      <td>8.0</td>\n",
       "      <td>15.0</td>\n",
       "      <td>13.0</td>\n",
       "      <td>11.0</td>\n",
       "      <td>1.4</td>\n",
       "    </tr>\n",
       "    <tr>\n",
       "      <th>290</th>\n",
       "      <td>227708</td>\n",
       "      <td>Lucas Tagliapietra</td>\n",
       "      <td>27</td>\n",
       "      <td>Brazil</td>\n",
       "      <td>69</td>\n",
       "      <td>71</td>\n",
       "      <td>Al Batin</td>\n",
       "      <td>1.0</td>\n",
       "      <td>7.0</td>\n",
       "      <td>Left</td>\n",
       "      <td>...</td>\n",
       "      <td>65.0</td>\n",
       "      <td>58.0</td>\n",
       "      <td>71.0</td>\n",
       "      <td>66.0</td>\n",
       "      <td>10.0</td>\n",
       "      <td>11.0</td>\n",
       "      <td>9.0</td>\n",
       "      <td>12.0</td>\n",
       "      <td>6.0</td>\n",
       "      <td>1.8</td>\n",
       "    </tr>\n",
       "    <tr>\n",
       "      <th>321</th>\n",
       "      <td>240584</td>\n",
       "      <td>B. Verbong</td>\n",
       "      <td>18</td>\n",
       "      <td>Netherlands</td>\n",
       "      <td>58</td>\n",
       "      <td>70</td>\n",
       "      <td>VVV-Venlo</td>\n",
       "      <td>160.0</td>\n",
       "      <td>1.0</td>\n",
       "      <td>Right</td>\n",
       "      <td>...</td>\n",
       "      <td>42.0</td>\n",
       "      <td>13.0</td>\n",
       "      <td>14.0</td>\n",
       "      <td>12.0</td>\n",
       "      <td>61.0</td>\n",
       "      <td>59.0</td>\n",
       "      <td>60.0</td>\n",
       "      <td>52.0</td>\n",
       "      <td>58.0</td>\n",
       "      <td>264.0</td>\n",
       "    </tr>\n",
       "    <tr>\n",
       "      <th>373</th>\n",
       "      <td>231823</td>\n",
       "      <td>J. Hoogma</td>\n",
       "      <td>20</td>\n",
       "      <td>Netherlands</td>\n",
       "      <td>69</td>\n",
       "      <td>80</td>\n",
       "      <td>TSG 1899 Hoffenheim</td>\n",
       "      <td>1.6</td>\n",
       "      <td>10.0</td>\n",
       "      <td>Left</td>\n",
       "      <td>...</td>\n",
       "      <td>63.0</td>\n",
       "      <td>67.0</td>\n",
       "      <td>72.0</td>\n",
       "      <td>69.0</td>\n",
       "      <td>11.0</td>\n",
       "      <td>13.0</td>\n",
       "      <td>14.0</td>\n",
       "      <td>7.0</td>\n",
       "      <td>9.0</td>\n",
       "      <td>3.0</td>\n",
       "    </tr>\n",
       "    <tr>\n",
       "      <th>378</th>\n",
       "      <td>238160</td>\n",
       "      <td>M. Demiral</td>\n",
       "      <td>20</td>\n",
       "      <td>Turkey</td>\n",
       "      <td>73</td>\n",
       "      <td>83</td>\n",
       "      <td>Alanyaspor</td>\n",
       "      <td>5.5</td>\n",
       "      <td>7.0</td>\n",
       "      <td>Left</td>\n",
       "      <td>...</td>\n",
       "      <td>61.0</td>\n",
       "      <td>74.0</td>\n",
       "      <td>77.0</td>\n",
       "      <td>73.0</td>\n",
       "      <td>15.0</td>\n",
       "      <td>7.0</td>\n",
       "      <td>13.0</td>\n",
       "      <td>6.0</td>\n",
       "      <td>11.0</td>\n",
       "      <td>0.0</td>\n",
       "    </tr>\n",
       "    <tr>\n",
       "      <th>...</th>\n",
       "      <td>...</td>\n",
       "      <td>...</td>\n",
       "      <td>...</td>\n",
       "      <td>...</td>\n",
       "      <td>...</td>\n",
       "      <td>...</td>\n",
       "      <td>...</td>\n",
       "      <td>...</td>\n",
       "      <td>...</td>\n",
       "      <td>...</td>\n",
       "      <td>...</td>\n",
       "      <td>...</td>\n",
       "      <td>...</td>\n",
       "      <td>...</td>\n",
       "      <td>...</td>\n",
       "      <td>...</td>\n",
       "      <td>...</td>\n",
       "      <td>...</td>\n",
       "      <td>...</td>\n",
       "      <td>...</td>\n",
       "      <td>...</td>\n",
       "    </tr>\n",
       "    <tr>\n",
       "      <th>25484</th>\n",
       "      <td>201401</td>\n",
       "      <td>Campabadal</td>\n",
       "      <td>25</td>\n",
       "      <td>Spain</td>\n",
       "      <td>68</td>\n",
       "      <td>73</td>\n",
       "      <td>CD Lugo</td>\n",
       "      <td>975.0</td>\n",
       "      <td>4.0</td>\n",
       "      <td>Right</td>\n",
       "      <td>...</td>\n",
       "      <td>58.0</td>\n",
       "      <td>65.0</td>\n",
       "      <td>70.0</td>\n",
       "      <td>73.0</td>\n",
       "      <td>15.0</td>\n",
       "      <td>7.0</td>\n",
       "      <td>12.0</td>\n",
       "      <td>10.0</td>\n",
       "      <td>14.0</td>\n",
       "      <td>1.6</td>\n",
       "    </tr>\n",
       "    <tr>\n",
       "      <th>25485</th>\n",
       "      <td>207559</td>\n",
       "      <td>S. Tibbling</td>\n",
       "      <td>23</td>\n",
       "      <td>Sweden</td>\n",
       "      <td>73</td>\n",
       "      <td>79</td>\n",
       "      <td>Brøndby IF</td>\n",
       "      <td>5.5</td>\n",
       "      <td>19.0</td>\n",
       "      <td>Right</td>\n",
       "      <td>...</td>\n",
       "      <td>73.0</td>\n",
       "      <td>62.0</td>\n",
       "      <td>63.0</td>\n",
       "      <td>51.0</td>\n",
       "      <td>13.0</td>\n",
       "      <td>15.0</td>\n",
       "      <td>12.0</td>\n",
       "      <td>9.0</td>\n",
       "      <td>14.0</td>\n",
       "      <td>8.3</td>\n",
       "    </tr>\n",
       "    <tr>\n",
       "      <th>25486</th>\n",
       "      <td>205157</td>\n",
       "      <td>Ruiz de Galarreta</td>\n",
       "      <td>24</td>\n",
       "      <td>Spain</td>\n",
       "      <td>70</td>\n",
       "      <td>75</td>\n",
       "      <td>UD Las Palmas</td>\n",
       "      <td>2.3</td>\n",
       "      <td>6.0</td>\n",
       "      <td>Right</td>\n",
       "      <td>...</td>\n",
       "      <td>62.0</td>\n",
       "      <td>66.0</td>\n",
       "      <td>69.0</td>\n",
       "      <td>65.0</td>\n",
       "      <td>12.0</td>\n",
       "      <td>6.0</td>\n",
       "      <td>13.0</td>\n",
       "      <td>7.0</td>\n",
       "      <td>12.0</td>\n",
       "      <td>3.9</td>\n",
       "    </tr>\n",
       "    <tr>\n",
       "      <th>25487</th>\n",
       "      <td>188802</td>\n",
       "      <td>M. Schmelzer</td>\n",
       "      <td>30</td>\n",
       "      <td>Germany</td>\n",
       "      <td>77</td>\n",
       "      <td>77</td>\n",
       "      <td>Borussia Dortmund</td>\n",
       "      <td>6.5</td>\n",
       "      <td>43.0</td>\n",
       "      <td>Left</td>\n",
       "      <td>...</td>\n",
       "      <td>72.0</td>\n",
       "      <td>75.0</td>\n",
       "      <td>78.0</td>\n",
       "      <td>80.0</td>\n",
       "      <td>14.0</td>\n",
       "      <td>10.0</td>\n",
       "      <td>15.0</td>\n",
       "      <td>9.0</td>\n",
       "      <td>8.0</td>\n",
       "      <td>11.1</td>\n",
       "    </tr>\n",
       "    <tr>\n",
       "      <th>25488</th>\n",
       "      <td>244464</td>\n",
       "      <td>E. Castillo</td>\n",
       "      <td>23</td>\n",
       "      <td>Ecuador</td>\n",
       "      <td>66</td>\n",
       "      <td>75</td>\n",
       "      <td>Club Tijuana</td>\n",
       "      <td>1.0</td>\n",
       "      <td>6.0</td>\n",
       "      <td>Right</td>\n",
       "      <td>...</td>\n",
       "      <td>64.0</td>\n",
       "      <td>21.0</td>\n",
       "      <td>41.0</td>\n",
       "      <td>24.0</td>\n",
       "      <td>9.0</td>\n",
       "      <td>13.0</td>\n",
       "      <td>13.0</td>\n",
       "      <td>12.0</td>\n",
       "      <td>14.0</td>\n",
       "      <td>1.9</td>\n",
       "    </tr>\n",
       "  </tbody>\n",
       "</table>\n",
       "<p>11833 rows × 57 columns</p>\n",
       "</div>"
      ],
      "text/plain": [
       "           ID                Name  Age  Nationality  Overall  Potential  \\\n",
       "152    211732           T. Thiele   26      Germany       67         68   \n",
       "290    227708  Lucas Tagliapietra   27       Brazil       69         71   \n",
       "321    240584          B. Verbong   18  Netherlands       58         70   \n",
       "373    231823           J. Hoogma   20  Netherlands       69         80   \n",
       "378    238160          M. Demiral   20       Turkey       73         83   \n",
       "...       ...                 ...  ...          ...      ...        ...   \n",
       "25484  201401          Campabadal   25        Spain       68         73   \n",
       "25485  207559         S. Tibbling   23       Sweden       73         79   \n",
       "25486  205157   Ruiz de Galarreta   24        Spain       70         75   \n",
       "25487  188802        M. Schmelzer   30      Germany       77         77   \n",
       "25488  244464         E. Castillo   23      Ecuador       66         75   \n",
       "\n",
       "                       Club  Value  Wage Preferred Foot  ... Composure  \\\n",
       "152    1. FC Kaiserslautern  900.0   3.0          Right  ...      68.0   \n",
       "290                Al Batin    1.0   7.0           Left  ...      65.0   \n",
       "321               VVV-Venlo  160.0   1.0          Right  ...      42.0   \n",
       "373     TSG 1899 Hoffenheim    1.6  10.0           Left  ...      63.0   \n",
       "378              Alanyaspor    5.5   7.0           Left  ...      61.0   \n",
       "...                     ...    ...   ...            ...  ...       ...   \n",
       "25484               CD Lugo  975.0   4.0          Right  ...      58.0   \n",
       "25485            Brøndby IF    5.5  19.0          Right  ...      73.0   \n",
       "25486         UD Las Palmas    2.3   6.0          Right  ...      62.0   \n",
       "25487     Borussia Dortmund    6.5  43.0           Left  ...      72.0   \n",
       "25488          Club Tijuana    1.0   6.0          Right  ...      64.0   \n",
       "\n",
       "       Marking  StandingTackle SlidingTackle GKDiving GKHandling  GKKicking  \\\n",
       "152       18.0            16.0          17.0     15.0        8.0       15.0   \n",
       "290       58.0            71.0          66.0     10.0       11.0        9.0   \n",
       "321       13.0            14.0          12.0     61.0       59.0       60.0   \n",
       "373       67.0            72.0          69.0     11.0       13.0       14.0   \n",
       "378       74.0            77.0          73.0     15.0        7.0       13.0   \n",
       "...        ...             ...           ...      ...        ...        ...   \n",
       "25484     65.0            70.0          73.0     15.0        7.0       12.0   \n",
       "25485     62.0            63.0          51.0     13.0       15.0       12.0   \n",
       "25486     66.0            69.0          65.0     12.0        6.0       13.0   \n",
       "25487     75.0            78.0          80.0     14.0       10.0       15.0   \n",
       "25488     21.0            41.0          24.0      9.0       13.0       13.0   \n",
       "\n",
       "       GKPositioning GKReflexes  Release Clause  \n",
       "152             13.0       11.0             1.4  \n",
       "290             12.0        6.0             1.8  \n",
       "321             52.0       58.0           264.0  \n",
       "373              7.0        9.0             3.0  \n",
       "378              6.0       11.0             0.0  \n",
       "...              ...        ...             ...  \n",
       "25484           10.0       14.0             1.6  \n",
       "25485            9.0       14.0             8.3  \n",
       "25486            7.0       12.0             3.9  \n",
       "25487            9.0        8.0            11.1  \n",
       "25488           12.0       14.0             1.9  \n",
       "\n",
       "[11833 rows x 57 columns]"
      ]
     },
     "execution_count": 81,
     "metadata": {},
     "output_type": "execute_result"
    }
   ],
   "source": [
    "df[df.duplicated()]"
   ]
  },
  {
   "cell_type": "code",
   "execution_count": 82,
   "id": "fa49ddab",
   "metadata": {},
   "outputs": [],
   "source": [
    "#we found that there exactly 11833 duplicated records....\n",
    "# using drop_dupicated() we are gonna drop those duplictes"
   ]
  },
  {
   "cell_type": "code",
   "execution_count": 83,
   "id": "8abee933",
   "metadata": {},
   "outputs": [],
   "source": [
    "df.drop_duplicates(inplace = True)"
   ]
  },
  {
   "cell_type": "code",
   "execution_count": 84,
   "id": "f3f7e3f0",
   "metadata": {},
   "outputs": [
    {
     "data": {
      "text/plain": [
       "(13657, 57)"
      ]
     },
     "execution_count": 84,
     "metadata": {},
     "output_type": "execute_result"
    }
   ],
   "source": [
    "df.shape     #Now after the duplicated recordes are removed there are 13657 records."
   ]
  },
  {
   "cell_type": "markdown",
   "id": "9a517671",
   "metadata": {},
   "source": [
    "### 5. Check the variation of the features."
   ]
  },
  {
   "cell_type": "code",
   "execution_count": 85,
   "id": "5814b036",
   "metadata": {
    "scrolled": true
   },
   "outputs": [
    {
     "data": {
      "text/plain": [
       "Index(['Age', 'Overall', 'Potential', 'Value', 'Wage', 'Weak Foot',\n",
       "       'Skill Moves', 'Jersey Number', 'Joined', 'Contract Valid Until',\n",
       "       'Height', 'Weight', 'Crossing', 'Finishing', 'HeadingAccuracy',\n",
       "       'ShortPassing', 'Volleys', 'Dribbling', 'Curve', 'FKAccuracy',\n",
       "       'LongPassing', 'BallControl', 'Acceleration', 'SprintSpeed', 'Agility',\n",
       "       'Reactions', 'Balance', 'ShotPower', 'Jumping', 'Stamina', 'Strength',\n",
       "       'LongShots', 'Aggression', 'Interceptions', 'Positioning', 'Vision',\n",
       "       'Penalties', 'Composure', 'Marking', 'StandingTackle', 'SlidingTackle',\n",
       "       'GKDiving', 'GKHandling', 'GKKicking', 'GKPositioning', 'GKReflexes',\n",
       "       'Release Clause'],\n",
       "      dtype='object')"
      ]
     },
     "execution_count": 85,
     "metadata": {},
     "output_type": "execute_result"
    }
   ],
   "source": [
    "num_col = df.select_dtypes(np.number).columns\n",
    "num_col"
   ]
  },
  {
   "cell_type": "code",
   "execution_count": 86,
   "id": "8e0a7fb6",
   "metadata": {},
   "outputs": [
    {
     "name": "stdout",
     "output_type": "stream",
     "text": [
      "The mean of Age is 25.082595006223915\n",
      "The variance of Age is 21.57548570833157\n",
      "The standard deviation of Age is 4.644941948865623.\n",
      "\n",
      "---------------------------------------------------------------------------\n",
      "The mean of Overall is 66.20502306509482\n",
      "The variance of Overall is 47.63575976989635\n",
      "The standard deviation of Overall is 6.901866397569309.\n",
      "\n",
      "---------------------------------------------------------------------------\n",
      "The mean of Potential is 71.3070220399795\n",
      "The variance of Potential is 37.387496820911345\n",
      "The standard deviation of Potential is 6.114531610917663.\n",
      "\n",
      "---------------------------------------------------------------------------\n",
      "The mean of Value is 265.3440653144915\n",
      "The variance of Value is 83590.70298780984\n",
      "The standard deviation of Value is 289.1205682545084.\n",
      "\n",
      "---------------------------------------------------------------------------\n",
      "The mean of Wage is 9.646188767664933\n",
      "The variance of Wage is 478.7468061016517\n",
      "The standard deviation of Wage is 21.880283501400335.\n",
      "\n",
      "---------------------------------------------------------------------------\n",
      "The mean of Weak Foot is 2.948755597973717\n",
      "The variance of Weak Foot is 0.4364340240371435\n",
      "The standard deviation of Weak Foot is 0.6606315342436686.\n",
      "\n",
      "---------------------------------------------------------------------------\n",
      "The mean of Skill Moves is 2.362234784523897\n",
      "The variance of Skill Moves is 0.5762653137415611\n",
      "The standard deviation of Skill Moves is 0.7591214090918271.\n",
      "\n",
      "---------------------------------------------------------------------------\n",
      "The mean of Jersey Number is 19.60227773695812\n",
      "The variance of Jersey Number is 255.79382242560717\n",
      "The standard deviation of Jersey Number is 15.993555652999966.\n",
      "\n",
      "---------------------------------------------------------------------------\n",
      "The mean of Joined is 1844.594273998682\n",
      "The variance of Joined is 317048.2660275481\n",
      "The standard deviation of Joined is 563.0703917163005.\n",
      "\n",
      "---------------------------------------------------------------------------\n",
      "The mean of Contract Valid Until is 2020.1449091991665\n",
      "The variance of Contract Valid Until is 1.6597589720300383\n",
      "The standard deviation of Contract Valid Until is 1.288316332284132.\n",
      "\n",
      "---------------------------------------------------------------------------\n",
      "The mean of Height is 5.782228161382431\n",
      "The variance of Height is 0.2892452033574212\n",
      "The standard deviation of Height is 0.5378152130215555.\n",
      "\n",
      "---------------------------------------------------------------------------\n",
      "The mean of Weight is 165.57311268946327\n",
      "The variance of Weight is 315.0389020928293\n",
      "The standard deviation of Weight is 17.749335257773158.\n",
      "\n",
      "---------------------------------------------------------------------------\n",
      "The mean of Crossing is 49.74884369723222\n",
      "The variance of Crossing is 338.1732594925244\n",
      "The standard deviation of Crossing is 18.38948774415765.\n",
      "\n",
      "---------------------------------------------------------------------------\n",
      "The mean of Finishing is 45.5412965274209\n",
      "The variance of Finishing is 380.4511028416545\n",
      "The standard deviation of Finishing is 19.505155801522186.\n",
      "\n",
      "---------------------------------------------------------------------------\n",
      "The mean of HeadingAccuracy is 52.18684384406431\n",
      "The variance of HeadingAccuracy is 301.7968782978542\n",
      "The standard deviation of HeadingAccuracy is 17.372302043708952.\n",
      "\n",
      "---------------------------------------------------------------------------\n",
      "The mean of ShortPassing is 58.71184200866309\n",
      "The variance of ShortPassing is 216.2198223116054\n",
      "The standard deviation of ShortPassing is 14.704415061865106.\n",
      "\n",
      "---------------------------------------------------------------------------\n",
      "The mean of Volleys is 42.945745539975036\n",
      "The variance of Volleys is 313.7699637264349\n",
      "The standard deviation of Volleys is 17.713553108465703.\n",
      "\n",
      "---------------------------------------------------------------------------\n",
      "The mean of Dribbling is 55.33734674399824\n",
      "The variance of Dribbling is 359.2662916087637\n",
      "The standard deviation of Dribbling is 18.954321185649558.\n",
      "\n",
      "---------------------------------------------------------------------------\n",
      "The mean of Curve is 47.20115997357022\n",
      "The variance of Curve is 339.7797960111842\n",
      "The standard deviation of Curve is 18.433116828447222.\n",
      "\n",
      "---------------------------------------------------------------------------\n",
      "The mean of FKAccuracy is 42.887086117025184\n",
      "The variance of FKAccuracy is 307.9042832928013\n",
      "The standard deviation of FKAccuracy is 17.547201580103916.\n",
      "\n",
      "---------------------------------------------------------------------------\n",
      "The mean of LongPassing is 52.738712282504956\n",
      "The variance of LongPassing is 234.94706879687425\n",
      "The standard deviation of LongPassing is 15.327983194043313.\n",
      "\n",
      "---------------------------------------------------------------------------\n",
      "The mean of BallControl is 58.351516041406654\n",
      "The variance of BallControl is 280.8091733622433\n",
      "The standard deviation of BallControl is 16.757361766168422.\n",
      "\n",
      "---------------------------------------------------------------------------\n",
      "The mean of Acceleration is 64.54592173849204\n",
      "The variance of Acceleration is 222.55848208166879\n",
      "The standard deviation of Acceleration is 14.918394085211343.\n",
      "\n",
      "---------------------------------------------------------------------------\n",
      "The mean of SprintSpeed is 64.64576756478967\n",
      "The variance of SprintSpeed is 213.98882734949697\n",
      "The standard deviation of SprintSpeed is 14.62835696001082.\n",
      "\n",
      "---------------------------------------------------------------------------\n",
      "The mean of Agility is 63.447691065266866\n",
      "The variance of Agility is 216.98971952158664\n",
      "The standard deviation of Agility is 14.730570916348986.\n",
      "\n",
      "---------------------------------------------------------------------------\n",
      "The mean of Reactions is 61.791425005506206\n",
      "The variance of Reactions is 81.62073703675809\n",
      "The standard deviation of Reactions is 9.03441957387181.\n",
      "\n",
      "---------------------------------------------------------------------------\n",
      "The mean of Balance is 63.9850965421041\n",
      "The variance of Balance is 199.75726685742137\n",
      "The standard deviation of Balance is 14.133551105699564.\n",
      "\n",
      "---------------------------------------------------------------------------\n",
      "The mean of ShotPower is 55.438220394978345\n",
      "The variance of ShotPower is 296.23107653909227\n",
      "The standard deviation of ShotPower is 17.211364749464007.\n",
      "\n",
      "---------------------------------------------------------------------------\n",
      "The mean of Jumping is 65.00176198516996\n",
      "The variance of Jumping is 139.4722435912133\n",
      "The standard deviation of Jumping is 11.809836730082822.\n",
      "\n",
      "---------------------------------------------------------------------------\n",
      "The mean of Stamina is 63.15270538139637\n",
      "The variance of Stamina is 253.7995868433491\n",
      "The standard deviation of Stamina is 15.931088689833759.\n",
      "\n",
      "---------------------------------------------------------------------------\n",
      "The mean of Strength is 65.27560384700095\n",
      "The variance of Strength is 157.24738496023284\n",
      "The standard deviation of Strength is 12.539831935087202.\n",
      "\n",
      "---------------------------------------------------------------------------\n",
      "The mean of LongShots is 47.08332721532927\n",
      "The variance of LongShots is 371.8489297805151\n",
      "The standard deviation of LongShots is 19.28338481129584.\n",
      "\n",
      "---------------------------------------------------------------------------\n",
      "The mean of Aggression is 55.79788561779605\n",
      "The variance of Aggression is 303.1435080107067\n",
      "The standard deviation of Aggression is 17.411016857458574.\n",
      "\n",
      "---------------------------------------------------------------------------\n",
      "The mean of Interceptions is 46.66448865722047\n",
      "The variance of Interceptions is 426.1546779121553\n",
      "The standard deviation of Interceptions is 20.64351418514191.\n",
      "\n",
      "---------------------------------------------------------------------------\n",
      "The mean of Positioning is 49.964907128698336\n",
      "The variance of Positioning is 381.00816634416555\n",
      "The standard deviation of Positioning is 19.51943048206493.\n",
      "\n",
      "---------------------------------------------------------------------------\n",
      "The mean of Vision is 53.397547903971805\n",
      "The variance of Vision is 200.77402922907353\n",
      "The standard deviation of Vision is 14.16947526301075.\n",
      "\n",
      "---------------------------------------------------------------------------\n",
      "The mean of Penalties is 48.57308567652889\n",
      "The variance of Penalties is 246.93733430316442\n",
      "The standard deviation of Penalties is 15.71423985763118.\n",
      "\n",
      "---------------------------------------------------------------------------\n",
      "The mean of Composure is 58.61596064899787\n",
      "The variance of Composure is 131.85081425513243\n",
      "The standard deviation of Composure is 11.482630981405457.\n",
      "\n",
      "---------------------------------------------------------------------------\n",
      "The mean of Marking is 47.268041993979885\n",
      "The variance of Marking is 393.43380166519285\n",
      "The standard deviation of Marking is 19.835165783657892.\n",
      "\n",
      "---------------------------------------------------------------------------\n",
      "The mean of StandingTackle is 47.65413699434696\n",
      "The variance of StandingTackle is 468.80922462411183\n",
      "The standard deviation of StandingTackle is 21.652002785518754.\n",
      "\n",
      "---------------------------------------------------------------------------\n",
      "The mean of SlidingTackle is 45.582850011012404\n",
      "The variance of SlidingTackle is 452.00247824981943\n",
      "The standard deviation of SlidingTackle is 21.260349908922464.\n",
      "\n",
      "---------------------------------------------------------------------------\n",
      "The mean of GKDiving is 16.651126936348287\n",
      "The variance of GKDiving is 315.33936528645467\n",
      "The standard deviation of GKDiving is 17.757797309532922.\n",
      "\n",
      "---------------------------------------------------------------------------\n",
      "The mean of GKHandling is 16.423390353131193\n",
      "The variance of GKHandling is 287.3801253915826\n",
      "The standard deviation of GKHandling is 16.952289679909985.\n",
      "\n",
      "---------------------------------------------------------------------------\n",
      "The mean of GKKicking is 16.28588209382571\n",
      "The variance of GKKicking is 274.0454313602449\n",
      "The standard deviation of GKKicking is 16.55431760478954.\n",
      "\n",
      "---------------------------------------------------------------------------\n",
      "The mean of GKPositioning is 16.423757433374934\n",
      "The variance of GKPositioning is 291.35374978667744\n",
      "The standard deviation of GKPositioning is 17.069087549915416.\n",
      "\n",
      "---------------------------------------------------------------------------\n",
      "The mean of GKReflexes is 16.757506790984507\n",
      "The variance of GKReflexes is 324.72584764541773\n",
      "The standard deviation of GKReflexes is 18.020151154899278.\n",
      "\n",
      "---------------------------------------------------------------------------\n",
      "The mean of Release Clause is 210.00900637035966\n",
      "The variance of Release Clause is 86196.82086644859\n",
      "The standard deviation of Release Clause is 293.5929509822206.\n",
      "\n",
      "---------------------------------------------------------------------------\n"
     ]
    }
   ],
   "source": [
    "\n",
    "for i in num_col:\n",
    "    def variance_std_df(df, i):\n",
    "        column = df[i]\n",
    "        mean = column.mean()\n",
    "        variance = column.var()\n",
    "        std = column.std()\n",
    "        return mean,variance, std\n",
    "\n",
    "                \n",
    "    mean,variance, std = variance_std_df(df, i)\n",
    "    print(f'The mean of {i} is {mean}')\n",
    "    print(f'The variance of {i} is {variance}')\n",
    "    print(f'The standard deviation of {i} is {std}.')\n",
    "    print()\n",
    "    \n",
    "    print('-'*75)\n",
    "\n",
    "    "
   ]
  },
  {
   "cell_type": "code",
   "execution_count": 87,
   "id": "30e830b4",
   "metadata": {},
   "outputs": [
    {
     "name": "stdout",
     "output_type": "stream",
     "text": [
      "The column Value as more variations\n",
      "The column Wage as more variations\n",
      "The column GKDiving as more variations\n",
      "The column GKHandling as more variations\n",
      "The column GKKicking as more variations\n",
      "The column GKPositioning as more variations\n",
      "The column GKReflexes as more variations\n",
      "The column Release Clause as more variations\n"
     ]
    }
   ],
   "source": [
    "for i in num_col:\n",
    "    def variance_std_df(df, i):\n",
    "        column = df[i]\n",
    "        mean = column.mean()\n",
    "        std = column.std()\n",
    "        return mean,std\n",
    "    \n",
    "    mean,std = variance_std_df(df, i)\n",
    "    if std > mean :\n",
    "        print(f'The column {i} as more variations')"
   ]
  },
  {
   "cell_type": "code",
   "execution_count": 88,
   "id": "7525c219",
   "metadata": {},
   "outputs": [],
   "source": [
    "#here we can see that the above columns are having more variations ... "
   ]
  },
  {
   "cell_type": "markdown",
   "id": "f6b434d5",
   "metadata": {},
   "source": [
    "***the variances of the variables are higher than the standard deviation***"
   ]
  },
  {
   "cell_type": "markdown",
   "id": "cf5a05f7",
   "metadata": {},
   "source": [
    "\n",
    "* Variance is calculated by taking the average of the squared differences between each data point and the mean.\n",
    "* Variance helps to find the distribution of data in a population from a mean, \n",
    "    and standard deviation also helps to know the data distribution in a population. \n",
    "    Still, standard deviation gives more clarity about the deviation of data from a mean.\n",
    "\n",
    "\n"
   ]
  },
  {
   "cell_type": "markdown",
   "id": "06f8d608",
   "metadata": {},
   "source": [
    "**which one tells the exact variation of the features**"
   ]
  },
  {
   "cell_type": "markdown",
   "id": "d4522209",
   "metadata": {},
   "source": [
    "* The standard deviation tells the exact variation of the data.\n",
    "* It is a more commonly used measure of variation because it is in the same unit as the original data,\n",
    "* whereas the variance is in squared units. It's a bit more intuitive to speak about the \"distance\" from the mean in the original unit rather than squared unit."
   ]
  },
  {
   "cell_type": "markdown",
   "id": "360a7cda",
   "metadata": {},
   "source": [
    "### 6.Check for missing values and do imputations where necessary.Note: Do the appropriate imputation based on the distribution.\n"
   ]
  },
  {
   "cell_type": "code",
   "execution_count": 89,
   "id": "67157d07",
   "metadata": {},
   "outputs": [],
   "source": [
    "#we have to notice that in above code we changed the nan values into zeros to make some changes \n",
    "#now we changed those zeros into nan values\n",
    "\n",
    "# this are the columns we changed zeroes [Height,joined,weight,Release Clause]"
   ]
  },
  {
   "cell_type": "code",
   "execution_count": 90,
   "id": "7217681d",
   "metadata": {},
   "outputs": [],
   "source": [
    "df['Height'] = df['Height'].replace(0,np.nan)"
   ]
  },
  {
   "cell_type": "code",
   "execution_count": 91,
   "id": "e3ae795a",
   "metadata": {},
   "outputs": [
    {
     "data": {
      "text/plain": [
       "array([6.1 , 6.2 , 6.5 , 5.3 , 5.8 , 5.11, 5.1 , 5.9 , 6.3 , 5.7 , 6.  ,\n",
       "       6.4 , 5.4 , 5.5 , 5.6 , 6.6 ,  nan, 6.8 , 5.2 , 6.7 , 6.9 ])"
      ]
     },
     "execution_count": 91,
     "metadata": {},
     "output_type": "execute_result"
    }
   ],
   "source": [
    "df['Height'].unique()"
   ]
  },
  {
   "cell_type": "code",
   "execution_count": 92,
   "id": "e2f3d440",
   "metadata": {},
   "outputs": [],
   "source": [
    "df['Weight'] = df['Weight'].replace(0,np.nan)"
   ]
  },
  {
   "cell_type": "code",
   "execution_count": 93,
   "id": "a4b7df5d",
   "metadata": {},
   "outputs": [],
   "source": [
    "df['Release Clause'] = df['Release Clause'].replace(0,np.nan)"
   ]
  },
  {
   "cell_type": "code",
   "execution_count": 94,
   "id": "6150246e",
   "metadata": {},
   "outputs": [],
   "source": [
    "df['Joined'] = df['Joined'].replace(0,np.nan)"
   ]
  },
  {
   "cell_type": "code",
   "execution_count": 95,
   "id": "6e24144a",
   "metadata": {},
   "outputs": [
    {
     "data": {
      "text/plain": [
       "ID                              0\n",
       "Name                            0\n",
       "Age                             0\n",
       "Nationality                     0\n",
       "Overall                         0\n",
       "Potential                       0\n",
       "Club                          185\n",
       "Value                           0\n",
       "Wage                            0\n",
       "Preferred Foot                 36\n",
       "International Reputation       36\n",
       "Weak Foot                      36\n",
       "Skill Moves                    36\n",
       "Work Rate                      36\n",
       "Body Type                      36\n",
       "Position                       47\n",
       "Jersey Number                  47\n",
       "Joined                       1164\n",
       "Loaned From                 12714\n",
       "Contract Valid Until          221\n",
       "Height                         36\n",
       "Weight                         36\n",
       "Crossing                       36\n",
       "Finishing                      36\n",
       "HeadingAccuracy                36\n",
       "ShortPassing                   36\n",
       "Volleys                        36\n",
       "Dribbling                      36\n",
       "Curve                          36\n",
       "FKAccuracy                     36\n",
       "LongPassing                    36\n",
       "BallControl                    36\n",
       "Acceleration                   36\n",
       "SprintSpeed                    36\n",
       "Agility                        36\n",
       "Reactions                      36\n",
       "Balance                        36\n",
       "ShotPower                      36\n",
       "Jumping                        36\n",
       "Stamina                        36\n",
       "Strength                       36\n",
       "LongShots                      36\n",
       "Aggression                     36\n",
       "Interceptions                  36\n",
       "Positioning                    36\n",
       "Vision                         36\n",
       "Penalties                      36\n",
       "Composure                      36\n",
       "Marking                        36\n",
       "StandingTackle                 36\n",
       "SlidingTackle                  36\n",
       "GKDiving                       36\n",
       "GKHandling                     36\n",
       "GKKicking                      36\n",
       "GKPositioning                  36\n",
       "GKReflexes                     36\n",
       "Release Clause               1171\n",
       "dtype: int64"
      ]
     },
     "execution_count": 95,
     "metadata": {},
     "output_type": "execute_result"
    }
   ],
   "source": [
    "df.isnull().sum()"
   ]
  },
  {
   "cell_type": "code",
   "execution_count": null,
   "id": "5d5da9c2",
   "metadata": {},
   "outputs": [],
   "source": [
    "#here we can see that in column loaned from has more than 90% of data is null so we drop that column"
   ]
  },
  {
   "cell_type": "code",
   "execution_count": null,
   "id": "0bd77632",
   "metadata": {},
   "outputs": [],
   "source": [
    "fifa.drop(columns = ['Loaned From'],inplace = True)"
   ]
  },
  {
   "cell_type": "code",
   "execution_count": null,
   "id": "4db2ccb4",
   "metadata": {},
   "outputs": [],
   "source": []
  },
  {
   "cell_type": "code",
   "execution_count": 39,
   "id": "086df254",
   "metadata": {},
   "outputs": [],
   "source": [
    "imp_col = ['Preferred Foot','International Reputation','Joined','Height','Weight','Release Clause',\n",
    "           'Contract Valid Until','Penalties','Position']"
   ]
  },
  {
   "cell_type": "code",
   "execution_count": null,
   "id": "b1e1e578",
   "metadata": {},
   "outputs": [],
   "source": [
    "#those  are the important columns to make the appropriate imputation."
   ]
  },
  {
   "cell_type": "code",
   "execution_count": 40,
   "id": "d0f508a3",
   "metadata": {},
   "outputs": [
    {
     "ename": "NameError",
     "evalue": "name 'df' is not defined",
     "output_type": "error",
     "traceback": [
      "\u001b[1;31m---------------------------------------------------------------------------\u001b[0m",
      "\u001b[1;31mNameError\u001b[0m                                 Traceback (most recent call last)",
      "Input \u001b[1;32mIn [40]\u001b[0m, in \u001b[0;36m<cell line: 1>\u001b[1;34m()\u001b[0m\n\u001b[0;32m      1\u001b[0m \u001b[38;5;28;01mfor\u001b[39;00m i \u001b[38;5;129;01min\u001b[39;00m imp_col:\n\u001b[1;32m----> 2\u001b[0m     \u001b[38;5;28;01mif\u001b[39;00m \u001b[43mdf\u001b[49m[i]\u001b[38;5;241m.\u001b[39mdtype \u001b[38;5;129;01min\u001b[39;00m [\u001b[38;5;28mint\u001b[39m,\u001b[38;5;28mfloat\u001b[39m]:\n\u001b[0;32m      3\u001b[0m         \u001b[38;5;28mprint\u001b[39m(\u001b[38;5;124m'\u001b[39m\u001b[38;5;124mThe skewness of\u001b[39m\u001b[38;5;124m'\u001b[39m,i,\u001b[38;5;124m'\u001b[39m\u001b[38;5;124mis \u001b[39m\u001b[38;5;124m'\u001b[39m,df[i]\u001b[38;5;241m.\u001b[39mskew())\n",
      "\u001b[1;31mNameError\u001b[0m: name 'df' is not defined"
     ]
    }
   ],
   "source": [
    "for i in imp_col:\n",
    "    if df[i].dtype in [int,float]:\n",
    "        print('The skewness of',i,'is ',df[i].skew())\n",
    "    \n",
    "    "
   ]
  },
  {
   "cell_type": "code",
   "execution_count": null,
   "id": "deed872f",
   "metadata": {},
   "outputs": [],
   "source": [
    "\n",
    "for i in imp_col:\n",
    "    if df[i].dtypes==object:\n",
    "        df[i].fillna(df[i].mode()[0],inplace = True)\n",
    "    else :\n",
    "        df[i].fillna(df[i].median(),inplace = True)"
   ]
  },
  {
   "cell_type": "code",
   "execution_count": null,
   "id": "f23e0f34",
   "metadata": {},
   "outputs": [],
   "source": [
    "df.isnull().sum()"
   ]
  },
  {
   "cell_type": "code",
   "execution_count": null,
   "id": "1d8c3380",
   "metadata": {},
   "outputs": [],
   "source": [
    "#we imputed null values for the "
   ]
  },
  {
   "cell_type": "code",
   "execution_count": null,
   "id": "e46564f6",
   "metadata": {},
   "outputs": [],
   "source": [
    "# we no need the club ,jersey number columns also so we dropped it\n",
    "df.drop(columns = ['Club','Jersey Number'],inplace = True)\n"
   ]
  },
  {
   "cell_type": "markdown",
   "id": "ffb978bf",
   "metadata": {},
   "source": [
    "#### 1. Skewness level verification"
   ]
  },
  {
   "cell_type": "code",
   "execution_count": null,
   "id": "312dc61b",
   "metadata": {},
   "outputs": [],
   "source": [
    "for i in imp_col:\n",
    "    if df[i].dtype in [int,float]:\n",
    "        print('The skewness of',i,'is ',df[i].skew())\n",
    "    "
   ]
  },
  {
   "cell_type": "markdown",
   "id": "901b685c",
   "metadata": {},
   "source": [
    "### 3. Distribution plots like KDE, Distribution plot, Box plot, etc."
   ]
  },
  {
   "cell_type": "code",
   "execution_count": null,
   "id": "8bdedebf",
   "metadata": {},
   "outputs": [],
   "source": [
    "it = 1\n",
    "for i in imp_col:\n",
    "    if df[i].dtype in [int,float]:\n",
    "        plt.figure(figsize=(10,8))\n",
    "        plt.subplot(3,2,it)         \n",
    "        sns.distplot(df[i])\n",
    "        plt.grid()\n",
    "        plt.title(i)\n",
    "    \n",
    "plt.tight_layout()\n",
    "plt.show()\n",
    "             "
   ]
  },
  {
   "cell_type": "markdown",
   "id": "0d14e710",
   "metadata": {},
   "source": [
    "## box plot"
   ]
  },
  {
   "cell_type": "code",
   "execution_count": null,
   "id": "35fb47f6",
   "metadata": {
    "scrolled": true
   },
   "outputs": [],
   "source": [
    "r = 3\n",
    "c = 2\n",
    "it = 1\n",
    "for i in imp_col:\n",
    "    if df[i].dtype in [int,float]:\n",
    "        plt.figure(figsize=(10,8))\n",
    "        plt.subplot(r,c,it)         \n",
    "        sns.boxplot(df[i])\n",
    "        plt.grid()\n",
    "        plt.title(i)\n",
    "    \n",
    "plt.tight_layout()\n",
    "plt.show()\n",
    "             "
   ]
  },
  {
   "cell_type": "code",
   "execution_count": null,
   "id": "459b5e40",
   "metadata": {},
   "outputs": [],
   "source": [
    "df.shape"
   ]
  },
  {
   "cell_type": "code",
   "execution_count": null,
   "id": "fff0a3e7",
   "metadata": {},
   "outputs": [],
   "source": [
    "#now we are gonna make imputation on other columns.\n",
    "\n",
    "num_col = df.select_dtypes(np.number).columns\n",
    "num_col"
   ]
  },
  {
   "cell_type": "code",
   "execution_count": null,
   "id": "41ab55b1",
   "metadata": {},
   "outputs": [],
   "source": [
    "cat = df.select_dtypes(include = object).columns\n",
    "cat"
   ]
  },
  {
   "cell_type": "code",
   "execution_count": null,
   "id": "84ef158f",
   "metadata": {},
   "outputs": [],
   "source": [
    "#imputation for otther numerical columns\n",
    "\n",
    "for i in num_col:\n",
    "    if i not in imp_col:\n",
    "        df[i].fillna(df[i].median(),inplace = True)\n",
    "    "
   ]
  },
  {
   "cell_type": "code",
   "execution_count": null,
   "id": "95a64975",
   "metadata": {},
   "outputs": [],
   "source": [
    "#imputation for other categorical column\n",
    "\n",
    "for i in cat:\n",
    "    if i not in imp_col:\n",
    "        df[i].fillna(df[i].mode()[0],inplace = True)"
   ]
  },
  {
   "cell_type": "code",
   "execution_count": null,
   "id": "37865b5f",
   "metadata": {},
   "outputs": [],
   "source": [
    "df.isnull().sum()"
   ]
  },
  {
   "cell_type": "markdown",
   "id": "528aa681",
   "metadata": {},
   "source": [
    "#### 7. find out If there is any player above 2.0*IQR – Q1 and below 2.0*IQR + Q3. What would happen if the data has above or below the mentioned values and display the names of the players?"
   ]
  },
  {
   "cell_type": "code",
   "execution_count": null,
   "id": "259b9355",
   "metadata": {},
   "outputs": [],
   "source": [
    "q1 = df.quantile(0.25)\n",
    "q3 = df.quantile(0.75)\n",
    "\n",
    "iqr = q3-q1\n",
    "\n",
    "Ll = (2.0*iqr)-q1\n",
    "Ul = (2.0*iqr)+q3\n",
    "\n",
    "df[((df>Ll) | (df<Ul)).any(axis = 1)]"
   ]
  },
  {
   "cell_type": "code",
   "execution_count": null,
   "id": "5d312451",
   "metadata": {},
   "outputs": [],
   "source": [
    "#there are 13657 records are above  2.0IQR – Q1 and below 2.0IQR + Q3"
   ]
  },
  {
   "cell_type": "markdown",
   "id": "94576bfd",
   "metadata": {},
   "source": [
    "#### 8. Check the Categorical variables and Find if there is any data imbalance in any column also find if any cardinality problem exists."
   ]
  },
  {
   "cell_type": "code",
   "execution_count": null,
   "id": "8812710f",
   "metadata": {},
   "outputs": [],
   "source": [
    "# check for cardinality\n",
    "for col in cat:\n",
    "    print(f'{col} cardinality:')\n",
    "    print(df[col].nunique())"
   ]
  },
  {
   "cell_type": "code",
   "execution_count": null,
   "id": "a16605e4",
   "metadata": {},
   "outputs": [],
   "source": [
    "#the nationality has 160 unique values so i colud exists a cardinality problem"
   ]
  },
  {
   "cell_type": "markdown",
   "id": "414ae0d2",
   "metadata": {},
   "source": [
    "#### 9. Generate pair plots for the following variables: (Overall, Value, Wage, International Reputation, Height, Weight, Release Clause)"
   ]
  },
  {
   "cell_type": "code",
   "execution_count": null,
   "id": "93185a48",
   "metadata": {},
   "outputs": [],
   "source": [
    "col1 = df[['Overall','Value','Wage','International Reputation','Height','Weight','Release Clause']]\n",
    "col1"
   ]
  },
  {
   "cell_type": "code",
   "execution_count": null,
   "id": "66e46783",
   "metadata": {},
   "outputs": [],
   "source": [
    "sns.pairplot(col1)\n",
    "plt.show()"
   ]
  },
  {
   "cell_type": "markdown",
   "id": "5f6febd0",
   "metadata": {},
   "source": [
    "#### 10. Generate a table containing the top 20 players ranked by Overall score and whose contract expires in 2020.\n"
   ]
  },
  {
   "cell_type": "code",
   "execution_count": null,
   "id": "7e2b8ecf",
   "metadata": {},
   "outputs": [],
   "source": [
    "df_top20 = df[(df['Contract Valid Until']==2020)].sort_values(by = 'Overall',ascending = False).head(20)"
   ]
  },
  {
   "cell_type": "code",
   "execution_count": null,
   "id": "d322cbfd",
   "metadata": {},
   "outputs": [],
   "source": [
    "df_top20"
   ]
  },
  {
   "cell_type": "markdown",
   "id": "325f30d8",
   "metadata": {},
   "source": [
    "### 1. What would the average wage for this set of players be?"
   ]
  },
  {
   "cell_type": "code",
   "execution_count": null,
   "id": "c0cd25e5",
   "metadata": {},
   "outputs": [],
   "source": [
    "print('The average wages for this set of players is ',df_top20['Wage'].mean())"
   ]
  },
  {
   "cell_type": "markdown",
   "id": "99ecff48",
   "metadata": {},
   "source": [
    "### 2. What is the average age?"
   ]
  },
  {
   "cell_type": "code",
   "execution_count": null,
   "id": "93cf58a5",
   "metadata": {},
   "outputs": [],
   "source": [
    "print('The average age for the players is ',df_top20['Age'].mean())"
   ]
  },
  {
   "cell_type": "markdown",
   "id": "22bbf151",
   "metadata": {},
   "source": [
    "#### 3. Is there a correlation between the Overall rating and Value for these players? If Yes what kind of relationship that the features have, also explain why this kind of relationship could happen."
   ]
  },
  {
   "cell_type": "code",
   "execution_count": null,
   "id": "d9994eec",
   "metadata": {},
   "outputs": [],
   "source": [
    "df_top20['Overall'].corr(df_top20['Value'])"
   ]
  },
  {
   "cell_type": "code",
   "execution_count": null,
   "id": "29e475ca",
   "metadata": {},
   "outputs": [],
   "source": [
    "#yes there is a strong positive correlation between the overall rating and the Value(it stands for current market value)\n",
    "\n",
    "# because the current market value of an individual player is increasing if the overall rating is increases."
   ]
  },
  {
   "cell_type": "markdown",
   "id": "a2c91967",
   "metadata": {},
   "source": [
    "### 11. Generate tables containing the top 5 players by Overall rating for each unique position."
   ]
  },
  {
   "cell_type": "code",
   "execution_count": null,
   "id": "67ae9ade",
   "metadata": {},
   "outputs": [],
   "source": [
    "top_5=pd.pivot_table(df,index=['Position','Name'],values=['Overall'])\n",
    "top_5"
   ]
  },
  {
   "cell_type": "code",
   "execution_count": null,
   "id": "d7ddf8ad",
   "metadata": {},
   "outputs": [],
   "source": [
    "top_5 = top_5.sort_values(by = 'Overall',ascending = False).head(5)\n",
    "top_5"
   ]
  },
  {
   "cell_type": "markdown",
   "id": "59ab47c1",
   "metadata": {},
   "source": [
    "### 1. Are there any players appearing at more than one table? Please point out such players."
   ]
  },
  {
   "cell_type": "code",
   "execution_count": null,
   "id": "bf836749",
   "metadata": {
    "scrolled": true
   },
   "outputs": [],
   "source": [
    "#for i in df_top20['Name']:\n",
    " #   for j in top_5.loc['Name']:\n",
    "  #      if i == j:\n",
    "   #         print(j)\n"
   ]
  },
  {
   "cell_type": "code",
   "execution_count": null,
   "id": "57036fff",
   "metadata": {},
   "outputs": [],
   "source": [
    "# the Player E.Hazard comes in two tables."
   ]
  },
  {
   "cell_type": "markdown",
   "id": "3e7f9d79",
   "metadata": {},
   "source": [
    "### 2. What is the average wage one can expect to pay for the top 5 in every position?\n"
   ]
  },
  {
   "cell_type": "code",
   "execution_count": null,
   "id": "f2721507",
   "metadata": {},
   "outputs": [],
   "source": [
    "df.groupby('Position')['Wage'].apply(lambda x: x.nlargest(5).mean())"
   ]
  },
  {
   "cell_type": "markdown",
   "id": "ea2f4e0d",
   "metadata": {},
   "source": [
    "# STATS"
   ]
  },
  {
   "cell_type": "markdown",
   "id": "a1460474",
   "metadata": {},
   "source": [
    "### 1. Test statistically whether the Left-hand player’s overall rating is higher than the Right-hand overall score. Alpha = 0.05 Before checking the test, Kindly make sure data is normally distributed."
   ]
  },
  {
   "cell_type": "code",
   "execution_count": null,
   "id": "9560c50d",
   "metadata": {},
   "outputs": [],
   "source": [
    "df['Preferred Foot'].value_counts()"
   ]
  },
  {
   "cell_type": "code",
   "execution_count": null,
   "id": "7e331305",
   "metadata": {},
   "outputs": [],
   "source": [
    "df_r = df[(df['Preferred Foot']=='Right')]['Overall']\n",
    "df_l = df[(df['Preferred Foot']=='Left')]['Overall']"
   ]
  },
  {
   "cell_type": "code",
   "execution_count": null,
   "id": "787fefa2",
   "metadata": {},
   "outputs": [],
   "source": [
    "#step1 :\n",
    "#H0 : mu1-mu2 <= 0        #mu1 stands for df_1 (left foot player)\n",
    "#H1 : mu1 -mu2 > 0        #mu2 stands for df_2 (right foot player)\n"
   ]
  },
  {
   "cell_type": "code",
   "execution_count": null,
   "id": "98f73d52",
   "metadata": {},
   "outputs": [],
   "source": [
    "# step2:\n",
    "stats.shapiro(df['Overall'])"
   ]
  },
  {
   "cell_type": "code",
   "execution_count": null,
   "id": "1bfd1f56",
   "metadata": {},
   "outputs": [],
   "source": [
    "#since the p_value is less than the alpha so the data is not normal so we go for mannwhitneyu test."
   ]
  },
  {
   "cell_type": "code",
   "execution_count": null,
   "id": "2440cd1e",
   "metadata": {},
   "outputs": [],
   "source": [
    "#step3\n",
    "#test_statistic\n",
    "alpha = 0.05\n",
    "stat,p_value = stats.mannwhitneyu(x = df_l,y = df_r,alternative = 'greater')\n",
    "print('The P_value is ',p_value)"
   ]
  },
  {
   "cell_type": "code",
   "execution_count": null,
   "id": "28a0eb28",
   "metadata": {},
   "outputs": [],
   "source": [
    "#step 4\n",
    "'We Reject the Null Hypothesis H0' if p_value < alpha else 'We fail to Reject the Null Hypothesis H0'"
   ]
  },
  {
   "cell_type": "code",
   "execution_count": null,
   "id": "59e75604",
   "metadata": {},
   "outputs": [],
   "source": [
    "# that is the left footed players overall rating is higher than the right footed player overall rating"
   ]
  },
  {
   "cell_type": "markdown",
   "id": "d0729e12",
   "metadata": {},
   "source": [
    "### 2. Does the age factor affect the player’s potential? Check the claim that the players who are greater than 35, their potential will be lesser than those whose age is less than 35. Alpha = 0.05\n"
   ]
  },
  {
   "cell_type": "code",
   "execution_count": null,
   "id": "19b33d75",
   "metadata": {},
   "outputs": [],
   "source": [
    "df_a1 = df[(df['Age']>=35)]['Potential']\n",
    "df_a2 = df[(df['Age']<35)]['Potential']\n",
    "\n",
    "n1 = len(df_a1)                 #df_a1 players potential greater than 35\n",
    "n2 = len(df_a2)                 #df_a2 stands fro players potentail less than 35\n",
    "\n",
    "print('No of players potential greater than eqaul to age 35',n1)\n",
    "print('No of players potential less than age 35',n2)"
   ]
  },
  {
   "cell_type": "code",
   "execution_count": null,
   "id": "87196c5a",
   "metadata": {},
   "outputs": [],
   "source": [
    "##step1 :\n",
    "#H0 : mu1-mu2 >= 0       \n",
    "#H1 : mu1 -mu2 < 0"
   ]
  },
  {
   "cell_type": "code",
   "execution_count": null,
   "id": "49edb375",
   "metadata": {},
   "outputs": [],
   "source": [
    "## step 2\n",
    "#checking for normality\n",
    "stats.shapiro(df['Potential'])"
   ]
  },
  {
   "cell_type": "code",
   "execution_count": null,
   "id": "10dc083f",
   "metadata": {},
   "outputs": [],
   "source": [
    "#p_value is lesseer than the alpha  so the data is not nornal"
   ]
  },
  {
   "cell_type": "code",
   "execution_count": null,
   "id": "2f3b5630",
   "metadata": {},
   "outputs": [],
   "source": [
    "alpha = 0.05\n",
    "stat,p_value = stats.mannwhitneyu(x = df_a1,y = df_a2,alternative = 'less')\n",
    "print('The P_value is ',p_value)"
   ]
  },
  {
   "cell_type": "code",
   "execution_count": null,
   "id": "262ab55a",
   "metadata": {},
   "outputs": [],
   "source": [
    "#step 4\n",
    "'We Reject the Null Hypothesis H0' if p_value < alpha else 'We fail to Reject the Null Hypothesis H0'"
   ]
  },
  {
   "cell_type": "code",
   "execution_count": 37,
   "id": "b64339c6",
   "metadata": {},
   "outputs": [],
   "source": [
    "#that the players who are greater than 35, their potential will be lesser than those whose age is less than 35"
   ]
  },
  {
   "cell_type": "markdown",
   "id": "aaf47c5e",
   "metadata": {},
   "source": [
    "### 3. Use the statistical test to check the relationship between the Preferred Foot and Position  with the 99% confident interval."
   ]
  },
  {
   "cell_type": "code",
   "execution_count": 38,
   "id": "1400b8c9",
   "metadata": {},
   "outputs": [
    {
     "ename": "NameError",
     "evalue": "name 'df' is not defined",
     "output_type": "error",
     "traceback": [
      "\u001b[1;31m---------------------------------------------------------------------------\u001b[0m",
      "\u001b[1;31mNameError\u001b[0m                                 Traceback (most recent call last)",
      "Input \u001b[1;32mIn [38]\u001b[0m, in \u001b[0;36m<cell line: 1>\u001b[1;34m()\u001b[0m\n\u001b[1;32m----> 1\u001b[0m a \u001b[38;5;241m=\u001b[39m pd\u001b[38;5;241m.\u001b[39mcrosstab(\u001b[43mdf\u001b[49m[\u001b[38;5;124m'\u001b[39m\u001b[38;5;124mPreferred Foot\u001b[39m\u001b[38;5;124m'\u001b[39m],df[\u001b[38;5;124m'\u001b[39m\u001b[38;5;124mPosition\u001b[39m\u001b[38;5;124m'\u001b[39m])\n\u001b[0;32m      2\u001b[0m a\n",
      "\u001b[1;31mNameError\u001b[0m: name 'df' is not defined"
     ]
    }
   ],
   "source": [
    "a = pd.crosstab(df['Preferred Foot'],df['Position'])\n",
    "a"
   ]
  },
  {
   "cell_type": "code",
   "execution_count": null,
   "id": "7531d86d",
   "metadata": {},
   "outputs": [],
   "source": [
    "#step1 :\n",
    "#H0 : There is a relation between preferred foot and postion\n",
    "#H0 : there is no relation between preferred foor and position"
   ]
  },
  {
   "cell_type": "code",
   "execution_count": null,
   "id": "7f7fd61c",
   "metadata": {},
   "outputs": [],
   "source": [
    "#step2 :\n",
    "#performing chi-square test.\n",
    "chi2, p, dof, expected = stats.chi2_contingency(a)"
   ]
  },
  {
   "cell_type": "code",
   "execution_count": null,
   "id": "adea6bb6",
   "metadata": {},
   "outputs": [],
   "source": [
    "#step3\n",
    "alpha = 0.01\n",
    "critical_value = stats.chi2.ppf(1-alpha, dof)\n",
    "\n",
    "# Print the results\n",
    "print(\"Chi-squared test statistic:\", chi2)\n",
    "print(\"P-value:\", p)\n",
    "print(\"Degrees of freedom:\", dof)\n",
    "print(\"Expected frequencies:\", expected)\n",
    "print(\"Critical value:\", critical_value)"
   ]
  },
  {
   "cell_type": "code",
   "execution_count": null,
   "id": "3b401e16",
   "metadata": {},
   "outputs": [],
   "source": [
    "# step4:\n",
    "if chi2 > critical_value:\n",
    "    print(\"Reject the null hypothesis, there is a significant relationship between Preferred Foot and Position\")\n",
    "else:\n",
    "    print(\"Fail to reject the null hypothesis, there is no significant relationship between Preferred Foot and Position\")\n",
    "    "
   ]
  },
  {
   "cell_type": "markdown",
   "id": "6245a516",
   "metadata": {},
   "source": [
    "### 4. Does the International Reputation cause a significant effect on players' Wages? Check the claim with a 0.04 significance level. Check the Normality of data before the actual test."
   ]
  },
  {
   "cell_type": "code",
   "execution_count": null,
   "id": "09a94821",
   "metadata": {},
   "outputs": [],
   "source": [
    "df['International Reputation'].value_counts()"
   ]
  },
  {
   "cell_type": "code",
   "execution_count": null,
   "id": "213f8825",
   "metadata": {
    "scrolled": true
   },
   "outputs": [],
   "source": [
    "#step 1\n",
    "stats.shapiro(df['Wage'])               #p_value is greater less than alpha the data is not normal"
   ]
  },
  {
   "cell_type": "code",
   "execution_count": null,
   "id": "64305bb8",
   "metadata": {},
   "outputs": [],
   "source": [
    "#step2 \n",
    "#H0 : there is a significant effect on players Wage cause by Ineternational Reputation\n",
    "#H1 : there is a no significant effect on players Wage cause by Ineternational Reputation"
   ]
  },
  {
   "cell_type": "code",
   "execution_count": null,
   "id": "ab93cb12",
   "metadata": {},
   "outputs": [],
   "source": [
    "a= df[(df['International Reputation']==1.0)]['Wage']\n",
    "b= df[(df['International Reputation']==2.0)]['Wage']\n",
    "c= df[(df['International Reputation']==3.0)]['Wage']\n",
    "d= df[(df['International Reputation']==4.0)]['Wage']\n",
    "e= df[(df['International Reputation']==5.0)]['Wage']"
   ]
  },
  {
   "cell_type": "code",
   "execution_count": null,
   "id": "c8961d5e",
   "metadata": {},
   "outputs": [],
   "source": [
    "#step3 \n",
    "#test statistic\n",
    "\n",
    "alpha = 0.04\n",
    "stat,p_value = stats.f_oneway(a,b,c,d,e)\n",
    "print('The test_statistic is',stat)\n",
    "print('The p_value is',p_value)"
   ]
  },
  {
   "cell_type": "code",
   "execution_count": null,
   "id": "5adc9398",
   "metadata": {},
   "outputs": [],
   "source": [
    "\n",
    "#step 4\n",
    "'We Reject the Null Hypothesis H0' if p_value < alpha else 'We fail to Reject the Null Hypothesis H0'"
   ]
  },
  {
   "cell_type": "code",
   "execution_count": null,
   "id": "9567b8a8",
   "metadata": {},
   "outputs": [],
   "source": [
    "#therefore \"there is a no significant effect on players Wage cause by Ineternational Reputation\""
   ]
  },
  {
   "cell_type": "markdown",
   "id": "570920e0",
   "metadata": {},
   "source": [
    "### 5. Check the claim that the median wages of under top 20 players are lesser than or equal to 25000. Test the claim with a 0.05 % significance level. Check the data is normally distributed or not before the testing the claim statistically."
   ]
  },
  {
   "cell_type": "code",
   "execution_count": null,
   "id": "3836a01d",
   "metadata": {},
   "outputs": [],
   "source": [
    "#step1\n",
    "#H0 mu <= 25000\n",
    "#H1 mu>25000\n",
    "\n",
    "alpha = 0.05\n",
    "mu = 25000\n",
    "n = len(df_top20['Wage'])"
   ]
  },
  {
   "cell_type": "code",
   "execution_count": null,
   "id": "4bc1b29a",
   "metadata": {},
   "outputs": [],
   "source": [
    "#step2 :\n",
    "#checking the normality of the data \n",
    "\n",
    "stats.shapiro(df_top20['Wage'])"
   ]
  },
  {
   "cell_type": "code",
   "execution_count": null,
   "id": "6b28b0f1",
   "metadata": {},
   "outputs": [],
   "source": [
    "#the p_value is greater than the alpha so the data is normal."
   ]
  },
  {
   "cell_type": "code",
   "execution_count": null,
   "id": "0c9bcff2",
   "metadata": {},
   "outputs": [],
   "source": [
    "#step 3:\n",
    "stat,p_value = stats.ttest_1samp(a = df_top20['Wage'],popmean = 25000,alternative = 'greater')\n",
    "print('The test_statistic is ',stat)\n",
    "print('The p_value is ',p_value)"
   ]
  },
  {
   "cell_type": "code",
   "execution_count": null,
   "id": "5b9e8a71",
   "metadata": {},
   "outputs": [],
   "source": [
    "#step 4\n",
    "'We Reject the Null Hypothesis H0' if p_value < alpha else 'We fail to Reject the Null Hypothesis H0'"
   ]
  },
  {
   "cell_type": "code",
   "execution_count": null,
   "id": "b2ee4197",
   "metadata": {},
   "outputs": [],
   "source": []
  }
 ],
 "metadata": {
  "kernelspec": {
   "display_name": "Python 3 (ipykernel)",
   "language": "python",
   "name": "python3"
  },
  "language_info": {
   "codemirror_mode": {
    "name": "ipython",
    "version": 3
   },
   "file_extension": ".py",
   "mimetype": "text/x-python",
   "name": "python",
   "nbconvert_exporter": "python",
   "pygments_lexer": "ipython3",
   "version": "3.9.13"
  }
 },
 "nbformat": 4,
 "nbformat_minor": 5
}
